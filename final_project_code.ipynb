{
 "cells": [
  {
   "cell_type": "code",
   "execution_count": 53,
   "id": "d364c0b6",
   "metadata": {},
   "outputs": [
    {
     "name": "stdout",
     "output_type": "stream",
     "text": [
      "{'error': {'status': 400, 'message': 'invalid id'}}\n"
     ]
    }
   ],
   "source": [
    "import spotipy  \n",
    "from spotipy.oauth2 import SpotifyOAuth  \n",
    "from requests import post, get\n",
    "import base64\n",
    "import os\n",
    "import json\n",
    "\n",
    "CLIENT_ID = 'bef7f07afb10490690745f395ee426f4'\n",
    "CLIENT_SECRET = '7e2569bed6884e26991c2a2c227039f1'\n",
    "\n",
    "def get_token():\n",
    "    auth_string = CLIENT_ID + \":\" + CLIENT_SECRET\n",
    "    auth_bytes = auth_string.encode(\"utf-8\")\n",
    "    auth_base64 = str(base64.b64encode(auth_bytes), \"utf-8\")\n",
    "    \n",
    "    url = \"https://accounts.spotify.com/api/token\"\n",
    "    headers = {\n",
    "        \"Authorization\": \"Basic \" + auth_base64,\n",
    "        \"Content-Type\": \"application/x-www-form-urlencoded\"\n",
    "    }\n",
    "    data = {\"grant_type\": \"client_credentials\"}\n",
    "    result = post(url, headers = headers, data = data)\n",
    "    json_result = json.loads(result.content)\n",
    "    token = json_result[\"access_token\"]\n",
    "    return token\n",
    "\n",
    "def get_auth_header(token):\n",
    "    return{\"Authorization\": \"Bearer \" + token}\n",
    "\n",
    "def search_for_artist(token, artist_name):\n",
    "    url = \"https://api.spotify.com/v1/search\"\n",
    "    headers = get_auth_header(token)\n",
    "    # limit = 1 returns only one artist\n",
    "    query = f\"?q={artist_name}&type=artist&limit=1\"\n",
    "    query_url = url + query\n",
    "    result = get(query_url, headers = headers)\n",
    "    json_result = json.loads(result.content)[\"artists\"][\"items\"]\n",
    "    if len(json_result) == 0:\n",
    "        print(f\"{artist_name} does not exist\")\n",
    "        return None\n",
    "    \n",
    "    return json_result[0]\n",
    "\n",
    "\n",
    "def search_for_track(token, track_id):\n",
    "    url = \"https://api.spotify.com/v1/tracks/{track_id}\"\n",
    "    headers = get_auth_header(token)\n",
    "    # limit = 1 returns only one artist\n",
    "    query_url = url\n",
    "    result = get(query_url, headers = headers)\n",
    "    json_result = json.loads(result.content)\n",
    "    if len(json_result) == 0:\n",
    "        print(f\"{track_name} does not exist\")\n",
    "        return None\n",
    "    \n",
    "    return json_result\n",
    "\n",
    "\n",
    "    \n",
    "token = get_token()\n",
    "result = search_for_track(token, \"1FpVJ7HpZInE2GvhVE2TwT\")\n",
    "print(result)\n",
    "\n",
    "# sp_oauth = SpotifyOAuth(client_id=CLIENT_ID, client_secret=CLIENT_SECRET, redirect_uri='http://localhost:8888/callback', scope='user-read-private user-read-email')  \n",
    "  \n",
    "# access_token = sp_oauth.get_access_token()  \n",
    "# refresh_token = sp_oauth.get_refresh_token()  "
   ]
  },
  {
   "cell_type": "code",
   "execution_count": 278,
   "id": "3d5844ab",
   "metadata": {
    "scrolled": true
   },
   "outputs": [
    {
     "data": {
      "text/plain": [
       "[{'danceability': 0.638,\n",
       "  'energy': 0.523,\n",
       "  'key': 1,\n",
       "  'loudness': -6.664,\n",
       "  'mode': 1,\n",
       "  'speechiness': 0.357,\n",
       "  'acousticness': 0.00454,\n",
       "  'instrumentalness': 0,\n",
       "  'liveness': 0.0842,\n",
       "  'valence': 0.422,\n",
       "  'tempo': 139.913,\n",
       "  'type': 'audio_features',\n",
       "  'id': '6HZILIRieu8S0iqY8kIKhj',\n",
       "  'uri': 'spotify:track:6HZILIRieu8S0iqY8kIKhj',\n",
       "  'track_href': 'https://api.spotify.com/v1/tracks/6HZILIRieu8S0iqY8kIKhj',\n",
       "  'analysis_url': 'https://api.spotify.com/v1/audio-analysis/6HZILIRieu8S0iqY8kIKhj',\n",
       "  'duration_ms': 185947,\n",
       "  'time_signature': 4}]"
      ]
     },
     "execution_count": 278,
     "metadata": {},
     "output_type": "execute_result"
    }
   ],
   "source": [
    "import spotipy\n",
    "from spotipy.oauth2 import SpotifyClientCredentials\n",
    "\n",
    "# Replace 'YOUR_CLIENT_ID' and 'YOUR_CLIENT_SECRET' with your actual credentials\n",
    "client_id = 'bef7f07afb10490690745f395ee426f4'\n",
    "client_secret = '7e2569bed6884e26991c2a2c227039f1'\n",
    "\n",
    "def get_track_features(track_name, artist_name):\n",
    "    # Set up Spotipy with client credentials\n",
    "    client_credentials_manager = SpotifyClientCredentials(client_id=client_id, client_secret=client_secret)\n",
    "    sp = spotipy.Spotify(client_credentials_manager=client_credentials_manager)\n",
    "\n",
    "    results = sp.search(q=f'track:{track_name} artist:{artist_name}', type='track')\n",
    "    track_id = results['tracks']['items'][0]['id']\n",
    "\n",
    "    track_features = sp.audio_features(tracks=[track_id])\n",
    "    return track_features\n",
    "\n",
    "get_track_features('DNA', 'Kendrick Lamar')"
   ]
  },
  {
   "cell_type": "code",
   "execution_count": 449,
   "id": "ea1ac1ad",
   "metadata": {},
   "outputs": [
    {
     "data": {
      "text/html": [
       "<div>\n",
       "<style scoped>\n",
       "    .dataframe tbody tr th:only-of-type {\n",
       "        vertical-align: middle;\n",
       "    }\n",
       "\n",
       "    .dataframe tbody tr th {\n",
       "        vertical-align: top;\n",
       "    }\n",
       "\n",
       "    .dataframe thead th {\n",
       "        text-align: right;\n",
       "    }\n",
       "</style>\n",
       "<table border=\"1\" class=\"dataframe\">\n",
       "  <thead>\n",
       "    <tr style=\"text-align: right;\">\n",
       "      <th></th>\n",
       "      <th>date</th>\n",
       "      <th>rank</th>\n",
       "      <th>song</th>\n",
       "      <th>artist</th>\n",
       "      <th>last-week</th>\n",
       "      <th>peak-rank</th>\n",
       "      <th>weeks-on-board</th>\n",
       "    </tr>\n",
       "  </thead>\n",
       "  <tbody>\n",
       "    <tr>\n",
       "      <th>0</th>\n",
       "      <td>27/12/80</td>\n",
       "      <td>1</td>\n",
       "      <td>(Just Like) Starting Over</td>\n",
       "      <td>John Lennon</td>\n",
       "      <td>3.0</td>\n",
       "      <td>1</td>\n",
       "      <td>9</td>\n",
       "    </tr>\n",
       "    <tr>\n",
       "      <th>1</th>\n",
       "      <td>27/12/80</td>\n",
       "      <td>2</td>\n",
       "      <td>More Than I Can Say</td>\n",
       "      <td>Leo Sayer</td>\n",
       "      <td>2.0</td>\n",
       "      <td>2</td>\n",
       "      <td>14</td>\n",
       "    </tr>\n",
       "    <tr>\n",
       "      <th>2</th>\n",
       "      <td>27/12/80</td>\n",
       "      <td>3</td>\n",
       "      <td>Love On The Rocks</td>\n",
       "      <td>Neil Diamond</td>\n",
       "      <td>4.0</td>\n",
       "      <td>3</td>\n",
       "      <td>9</td>\n",
       "    </tr>\n",
       "    <tr>\n",
       "      <th>3</th>\n",
       "      <td>27/12/80</td>\n",
       "      <td>4</td>\n",
       "      <td>Lady</td>\n",
       "      <td>Kenny Rogers</td>\n",
       "      <td>1.0</td>\n",
       "      <td>1</td>\n",
       "      <td>13</td>\n",
       "    </tr>\n",
       "    <tr>\n",
       "      <th>4</th>\n",
       "      <td>27/12/80</td>\n",
       "      <td>5</td>\n",
       "      <td>Hungry Heart</td>\n",
       "      <td>Bruce Springsteen</td>\n",
       "      <td>6.0</td>\n",
       "      <td>5</td>\n",
       "      <td>8</td>\n",
       "    </tr>\n",
       "    <tr>\n",
       "      <th>...</th>\n",
       "      <td>...</td>\n",
       "      <td>...</td>\n",
       "      <td>...</td>\n",
       "      <td>...</td>\n",
       "      <td>...</td>\n",
       "      <td>...</td>\n",
       "      <td>...</td>\n",
       "    </tr>\n",
       "    <tr>\n",
       "      <th>52182</th>\n",
       "      <td>2/1/71</td>\n",
       "      <td>96</td>\n",
       "      <td>Cheryl Moana Marie</td>\n",
       "      <td>John Rowles</td>\n",
       "      <td>NaN</td>\n",
       "      <td>96</td>\n",
       "      <td>1</td>\n",
       "    </tr>\n",
       "    <tr>\n",
       "      <th>52183</th>\n",
       "      <td>2/1/71</td>\n",
       "      <td>97</td>\n",
       "      <td>There It Goes Again</td>\n",
       "      <td>Barbara And The Uniques</td>\n",
       "      <td>NaN</td>\n",
       "      <td>97</td>\n",
       "      <td>1</td>\n",
       "    </tr>\n",
       "    <tr>\n",
       "      <th>52184</th>\n",
       "      <td>2/1/71</td>\n",
       "      <td>98</td>\n",
       "      <td>You Just Can't Win (By Making The Same Mistake)</td>\n",
       "      <td>Gene &amp; Jerry</td>\n",
       "      <td>NaN</td>\n",
       "      <td>98</td>\n",
       "      <td>1</td>\n",
       "    </tr>\n",
       "    <tr>\n",
       "      <th>52185</th>\n",
       "      <td>2/1/71</td>\n",
       "      <td>99</td>\n",
       "      <td>Now I'm A Woman</td>\n",
       "      <td>Nancy Wilson</td>\n",
       "      <td>NaN</td>\n",
       "      <td>99</td>\n",
       "      <td>1</td>\n",
       "    </tr>\n",
       "    <tr>\n",
       "      <th>52186</th>\n",
       "      <td>2/1/71</td>\n",
       "      <td>100</td>\n",
       "      <td>I Got To Tell Somebody</td>\n",
       "      <td>Betty Everett</td>\n",
       "      <td>100.0</td>\n",
       "      <td>100</td>\n",
       "      <td>2</td>\n",
       "    </tr>\n",
       "  </tbody>\n",
       "</table>\n",
       "<p>52187 rows × 7 columns</p>\n",
       "</div>"
      ],
      "text/plain": [
       "           date  rank                                             song  \\\n",
       "0      27/12/80     1                        (Just Like) Starting Over   \n",
       "1      27/12/80     2                              More Than I Can Say   \n",
       "2      27/12/80     3                                Love On The Rocks   \n",
       "3      27/12/80     4                                             Lady   \n",
       "4      27/12/80     5                                     Hungry Heart   \n",
       "...         ...   ...                                              ...   \n",
       "52182    2/1/71    96                               Cheryl Moana Marie   \n",
       "52183    2/1/71    97                              There It Goes Again   \n",
       "52184    2/1/71    98  You Just Can't Win (By Making The Same Mistake)   \n",
       "52185    2/1/71    99                                  Now I'm A Woman   \n",
       "52186    2/1/71   100                           I Got To Tell Somebody   \n",
       "\n",
       "                        artist  last-week  peak-rank  weeks-on-board  \n",
       "0                  John Lennon        3.0          1               9  \n",
       "1                    Leo Sayer        2.0          2              14  \n",
       "2                 Neil Diamond        4.0          3               9  \n",
       "3                 Kenny Rogers        1.0          1              13  \n",
       "4            Bruce Springsteen        6.0          5               8  \n",
       "...                        ...        ...        ...             ...  \n",
       "52182              John Rowles        NaN         96               1  \n",
       "52183  Barbara And The Uniques        NaN         97               1  \n",
       "52184             Gene & Jerry        NaN         98               1  \n",
       "52185             Nancy Wilson        NaN         99               1  \n",
       "52186            Betty Everett      100.0        100               2  \n",
       "\n",
       "[52187 rows x 7 columns]"
      ]
     },
     "execution_count": 449,
     "metadata": {},
     "output_type": "execute_result"
    }
   ],
   "source": [
    "import pandas as pd\n",
    "from collections import defaultdict\n",
    "from tqdm import tqdm\n",
    "\n",
    "# path to 'big-data.csv', need to have on the same directory as notebook\n",
    "file_path = '/Users/ryanye/Documents/Yale-NUS/DIS Copenhagen/Modules/Big Data/1971-1980.csv'\n",
    "\n",
    "# read the file as a pandas dataframe\n",
    "df = pd.read_csv(file_path)\n",
    "df\n",
    "# import re\n",
    "# # removing content after words \"featuring,\" \"feat.,\" \"ft.,\" and \"&\" in columns artist and song (case-insensitive)\n",
    "# df['artist'] = df['artist'].str.replace(r'\\s*(featuring|featuring:|feat\\.|ft\\.|&)\\s.*$', \"\", regex=True, flags=re.IGNORECASE)\n",
    "\n",
    "# # merging columns with a comme-separation\n",
    "# merged_column = df['song'] + ', ' + df['artist']\n",
    "\n",
    "# if not \"song, artist\" in df.columns:\n",
    "#     # insert the new column into the dataframe\n",
    "#     df.insert(4, 'song, artist', merged_column)\n"
   ]
  },
  {
   "cell_type": "code",
   "execution_count": 387,
   "id": "2e845a23",
   "metadata": {},
   "outputs": [],
   "source": [
    "# grouping dataframe by unique song, artist pairings and retaining only the rows with maximum values\n",
    "weeks_on_board = df.groupby([\"song, artist\"]).max()\n",
    "\n",
    "# grouping dataframe by unique song, artist pairings and calculating the aggregate mean values\n",
    "mean_rank = df.groupby([\"song, artist\"]).mean()\n",
    "\n",
    "# merging the 2 previous dataframes into a single dataframe, merging on \"song, artist\"\n",
    "merge_df_no_duplicates = pd.merge(weeks_on_board, mean_rank, on = \"song, artist\")"
   ]
  },
  {
   "cell_type": "code",
   "execution_count": 388,
   "id": "3ec49b83",
   "metadata": {},
   "outputs": [],
   "source": [
    "# dropping the unecessary columns\n",
    "billboard_song_rankings = merge_df_no_duplicates.drop(columns=['peak-rank_y', 'weeks-on-board_y', \n",
    "                                                               'rank_x', 'last-week_x', 'peak-rank_x',\n",
    "                                                               'last-week_y'])\n",
    "billboard_song_rankings.rename(columns={'weeks-on-board_x': 'weeks_on_board', 'rank_y': 'mean_rank'}, inplace=True)\n",
    "# Calculating the popularity scores\n",
    "billboard_song_rankings['popularity_score'] = (1 / billboard_song_rankings[\"mean_rank\"]) * billboard_song_rankings[\"weeks_on_board\"]\n",
    "# Filtering only the top 1000 most popular songs per decade (so as not to exceed the rate-limit in the Spotify\n",
    "# API calls)\n",
    "billboard_song_rankings_seventies = billboard_song_rankings.nlargest(1500, 'popularity_score')\n",
    "billboard_song_rankings_seventies['song_artist'] = billboard_song_rankings_seventies['song'] + ', ' + billboard_song_rankings_seventies['artist']"
   ]
  },
  {
   "cell_type": "code",
   "execution_count": 389,
   "id": "a313669e",
   "metadata": {},
   "outputs": [
    {
     "data": {
      "text/html": [
       "<div>\n",
       "<style scoped>\n",
       "    .dataframe tbody tr th:only-of-type {\n",
       "        vertical-align: middle;\n",
       "    }\n",
       "\n",
       "    .dataframe tbody tr th {\n",
       "        vertical-align: top;\n",
       "    }\n",
       "\n",
       "    .dataframe thead th {\n",
       "        text-align: right;\n",
       "    }\n",
       "</style>\n",
       "<table border=\"1\" class=\"dataframe\">\n",
       "  <thead>\n",
       "    <tr style=\"text-align: right;\">\n",
       "      <th></th>\n",
       "      <th>date</th>\n",
       "      <th>song</th>\n",
       "      <th>artist</th>\n",
       "      <th>weeks_on_board</th>\n",
       "      <th>mean_rank</th>\n",
       "      <th>popularity_score</th>\n",
       "      <th>song_artist</th>\n",
       "    </tr>\n",
       "    <tr>\n",
       "      <th>song, artist</th>\n",
       "      <th></th>\n",
       "      <th></th>\n",
       "      <th></th>\n",
       "      <th></th>\n",
       "      <th></th>\n",
       "      <th></th>\n",
       "      <th></th>\n",
       "    </tr>\n",
       "  </thead>\n",
       "  <tbody>\n",
       "    <tr>\n",
       "      <th>Knock Three Times, Dawn</th>\n",
       "      <td>9/1/71</td>\n",
       "      <td>Knock Three Times</td>\n",
       "      <td>Dawn</td>\n",
       "      <td>18</td>\n",
       "      <td>7.166667</td>\n",
       "      <td>2.511628</td>\n",
       "      <td>Knock Three Times, Dawn</td>\n",
       "    </tr>\n",
       "    <tr>\n",
       "      <th>My Sweet Lord/Isn't It A Pity, George Harrison</th>\n",
       "      <td>9/1/71</td>\n",
       "      <td>My Sweet Lord/Isn't It A Pity</td>\n",
       "      <td>George Harrison</td>\n",
       "      <td>14</td>\n",
       "      <td>7.555556</td>\n",
       "      <td>1.852941</td>\n",
       "      <td>My Sweet Lord/Isn't It A Pity, George Harrison</td>\n",
       "    </tr>\n",
       "    <tr>\n",
       "      <th>One Less Bell To Answer, The 5th Dimension</th>\n",
       "      <td>9/1/71</td>\n",
       "      <td>One Less Bell To Answer</td>\n",
       "      <td>The 5th Dimension</td>\n",
       "      <td>19</td>\n",
       "      <td>10.555556</td>\n",
       "      <td>1.800000</td>\n",
       "      <td>One Less Bell To Answer, The 5th Dimension</td>\n",
       "    </tr>\n",
       "    <tr>\n",
       "      <th>Groove Me, King Floyd</th>\n",
       "      <td>9/1/71</td>\n",
       "      <td>Groove Me</td>\n",
       "      <td>King Floyd</td>\n",
       "      <td>20</td>\n",
       "      <td>11.200000</td>\n",
       "      <td>1.785714</td>\n",
       "      <td>Groove Me, King Floyd</td>\n",
       "    </tr>\n",
       "    <tr>\n",
       "      <th>Lady, Kenny Rogers</th>\n",
       "      <td>8/11/80</td>\n",
       "      <td>Lady</td>\n",
       "      <td>Kenny Rogers</td>\n",
       "      <td>13</td>\n",
       "      <td>7.538462</td>\n",
       "      <td>1.724490</td>\n",
       "      <td>Lady, Kenny Rogers</td>\n",
       "    </tr>\n",
       "    <tr>\n",
       "      <th>...</th>\n",
       "      <td>...</td>\n",
       "      <td>...</td>\n",
       "      <td>...</td>\n",
       "      <td>...</td>\n",
       "      <td>...</td>\n",
       "      <td>...</td>\n",
       "      <td>...</td>\n",
       "    </tr>\n",
       "    <tr>\n",
       "      <th>When I Wanted You, Barry Manilow</th>\n",
       "      <td>9/2/80</td>\n",
       "      <td>When I Wanted You</td>\n",
       "      <td>Barry Manilow</td>\n",
       "      <td>16</td>\n",
       "      <td>50.937500</td>\n",
       "      <td>0.314110</td>\n",
       "      <td>When I Wanted You, Barry Manilow</td>\n",
       "    </tr>\n",
       "    <tr>\n",
       "      <th>Why Not Me, Fred Knoblock</th>\n",
       "      <td>9/8/80</td>\n",
       "      <td>Why Not Me</td>\n",
       "      <td>Fred Knoblock</td>\n",
       "      <td>14</td>\n",
       "      <td>44.571429</td>\n",
       "      <td>0.314103</td>\n",
       "      <td>Why Not Me, Fred Knoblock</td>\n",
       "    </tr>\n",
       "    <tr>\n",
       "      <th>Harry Truman, Chicago</th>\n",
       "      <td>8/3/75</td>\n",
       "      <td>Harry Truman</td>\n",
       "      <td>Chicago</td>\n",
       "      <td>9</td>\n",
       "      <td>28.666667</td>\n",
       "      <td>0.313953</td>\n",
       "      <td>Harry Truman, Chicago</td>\n",
       "    </tr>\n",
       "    <tr>\n",
       "      <th>Basketball Jones Featuring Tyrone Shoelaces, Cheech</th>\n",
       "      <td>8/9/73</td>\n",
       "      <td>Basketball Jones Featuring Tyrone Shoelaces</td>\n",
       "      <td>Cheech</td>\n",
       "      <td>11</td>\n",
       "      <td>35.090909</td>\n",
       "      <td>0.313472</td>\n",
       "      <td>Basketball Jones Featuring Tyrone Shoelaces, C...</td>\n",
       "    </tr>\n",
       "    <tr>\n",
       "      <th>Two Divided By Love, The Grass Roots</th>\n",
       "      <td>9/10/71</td>\n",
       "      <td>Two Divided By Love</td>\n",
       "      <td>The Grass Roots</td>\n",
       "      <td>11</td>\n",
       "      <td>35.090909</td>\n",
       "      <td>0.313472</td>\n",
       "      <td>Two Divided By Love, The Grass Roots</td>\n",
       "    </tr>\n",
       "  </tbody>\n",
       "</table>\n",
       "<p>1500 rows × 7 columns</p>\n",
       "</div>"
      ],
      "text/plain": [
       "                                                       date  \\\n",
       "song, artist                                                  \n",
       "Knock Three Times, Dawn                              9/1/71   \n",
       "My Sweet Lord/Isn't It A Pity, George Harrison       9/1/71   \n",
       "One Less Bell To Answer, The 5th Dimension           9/1/71   \n",
       "Groove Me, King Floyd                                9/1/71   \n",
       "Lady, Kenny Rogers                                  8/11/80   \n",
       "...                                                     ...   \n",
       "When I Wanted You, Barry Manilow                     9/2/80   \n",
       "Why Not Me, Fred Knoblock                            9/8/80   \n",
       "Harry Truman, Chicago                                8/3/75   \n",
       "Basketball Jones Featuring Tyrone Shoelaces, Ch...   8/9/73   \n",
       "Two Divided By Love, The Grass Roots                9/10/71   \n",
       "\n",
       "                                                                                           song  \\\n",
       "song, artist                                                                                      \n",
       "Knock Three Times, Dawn                                                       Knock Three Times   \n",
       "My Sweet Lord/Isn't It A Pity, George Harrison                    My Sweet Lord/Isn't It A Pity   \n",
       "One Less Bell To Answer, The 5th Dimension                              One Less Bell To Answer   \n",
       "Groove Me, King Floyd                                                                 Groove Me   \n",
       "Lady, Kenny Rogers                                                                         Lady   \n",
       "...                                                                                         ...   \n",
       "When I Wanted You, Barry Manilow                                              When I Wanted You   \n",
       "Why Not Me, Fred Knoblock                                                            Why Not Me   \n",
       "Harry Truman, Chicago                                                              Harry Truman   \n",
       "Basketball Jones Featuring Tyrone Shoelaces, Ch...  Basketball Jones Featuring Tyrone Shoelaces   \n",
       "Two Divided By Love, The Grass Roots                                        Two Divided By Love   \n",
       "\n",
       "                                                               artist  \\\n",
       "song, artist                                                            \n",
       "Knock Three Times, Dawn                                          Dawn   \n",
       "My Sweet Lord/Isn't It A Pity, George Harrison        George Harrison   \n",
       "One Less Bell To Answer, The 5th Dimension          The 5th Dimension   \n",
       "Groove Me, King Floyd                                      King Floyd   \n",
       "Lady, Kenny Rogers                                       Kenny Rogers   \n",
       "...                                                               ...   \n",
       "When I Wanted You, Barry Manilow                        Barry Manilow   \n",
       "Why Not Me, Fred Knoblock                               Fred Knoblock   \n",
       "Harry Truman, Chicago                                         Chicago   \n",
       "Basketball Jones Featuring Tyrone Shoelaces, Ch...             Cheech   \n",
       "Two Divided By Love, The Grass Roots                  The Grass Roots   \n",
       "\n",
       "                                                    weeks_on_board  mean_rank  \\\n",
       "song, artist                                                                    \n",
       "Knock Three Times, Dawn                                         18   7.166667   \n",
       "My Sweet Lord/Isn't It A Pity, George Harrison                  14   7.555556   \n",
       "One Less Bell To Answer, The 5th Dimension                      19  10.555556   \n",
       "Groove Me, King Floyd                                           20  11.200000   \n",
       "Lady, Kenny Rogers                                              13   7.538462   \n",
       "...                                                            ...        ...   \n",
       "When I Wanted You, Barry Manilow                                16  50.937500   \n",
       "Why Not Me, Fred Knoblock                                       14  44.571429   \n",
       "Harry Truman, Chicago                                            9  28.666667   \n",
       "Basketball Jones Featuring Tyrone Shoelaces, Ch...              11  35.090909   \n",
       "Two Divided By Love, The Grass Roots                            11  35.090909   \n",
       "\n",
       "                                                    popularity_score  \\\n",
       "song, artist                                                           \n",
       "Knock Three Times, Dawn                                     2.511628   \n",
       "My Sweet Lord/Isn't It A Pity, George Harrison              1.852941   \n",
       "One Less Bell To Answer, The 5th Dimension                  1.800000   \n",
       "Groove Me, King Floyd                                       1.785714   \n",
       "Lady, Kenny Rogers                                          1.724490   \n",
       "...                                                              ...   \n",
       "When I Wanted You, Barry Manilow                            0.314110   \n",
       "Why Not Me, Fred Knoblock                                   0.314103   \n",
       "Harry Truman, Chicago                                       0.313953   \n",
       "Basketball Jones Featuring Tyrone Shoelaces, Ch...          0.313472   \n",
       "Two Divided By Love, The Grass Roots                        0.313472   \n",
       "\n",
       "                                                                                          song_artist  \n",
       "song, artist                                                                                           \n",
       "Knock Three Times, Dawn                                                       Knock Three Times, Dawn  \n",
       "My Sweet Lord/Isn't It A Pity, George Harrison         My Sweet Lord/Isn't It A Pity, George Harrison  \n",
       "One Less Bell To Answer, The 5th Dimension                 One Less Bell To Answer, The 5th Dimension  \n",
       "Groove Me, King Floyd                                                           Groove Me, King Floyd  \n",
       "Lady, Kenny Rogers                                                                 Lady, Kenny Rogers  \n",
       "...                                                                                               ...  \n",
       "When I Wanted You, Barry Manilow                                     When I Wanted You, Barry Manilow  \n",
       "Why Not Me, Fred Knoblock                                                   Why Not Me, Fred Knoblock  \n",
       "Harry Truman, Chicago                                                           Harry Truman, Chicago  \n",
       "Basketball Jones Featuring Tyrone Shoelaces, Ch...  Basketball Jones Featuring Tyrone Shoelaces, C...  \n",
       "Two Divided By Love, The Grass Roots                             Two Divided By Love, The Grass Roots  \n",
       "\n",
       "[1500 rows x 7 columns]"
      ]
     },
     "execution_count": 389,
     "metadata": {},
     "output_type": "execute_result"
    }
   ],
   "source": [
    "billboard_song_rankings_seventies"
   ]
  },
  {
   "cell_type": "code",
   "execution_count": 391,
   "id": "5d70e698",
   "metadata": {
    "scrolled": true
   },
   "outputs": [
    {
     "name": "stderr",
     "output_type": "stream",
     "text": [
      "2it [00:02,  1.04it/s]"
     ]
    },
    {
     "name": "stdout",
     "output_type": "stream",
     "text": [
      "Error at index My Sweet Lord/Isn't It A Pity: list index out of range\n"
     ]
    },
    {
     "name": "stderr",
     "output_type": "stream",
     "text": [
      "9it [00:05,  1.95it/s]"
     ]
    },
    {
     "name": "stdout",
     "output_type": "stream",
     "text": [
      "Error at index I Think I Love You: list index out of range\n"
     ]
    },
    {
     "name": "stderr",
     "output_type": "stream",
     "text": [
      "18it [00:10,  2.13it/s]"
     ]
    },
    {
     "name": "stdout",
     "output_type": "stream",
     "text": [
      "Error at index American Pie (Parts I & II): list index out of range\n"
     ]
    },
    {
     "name": "stderr",
     "output_type": "stream",
     "text": [
      "29it [00:16,  2.15it/s]"
     ]
    },
    {
     "name": "stdout",
     "output_type": "stream",
     "text": [
      "Error at index It's Too Late/I Feel The Earth Move: list index out of range\n"
     ]
    },
    {
     "name": "stderr",
     "output_type": "stream",
     "text": [
      "56it [00:31,  2.10it/s]"
     ]
    },
    {
     "name": "stdout",
     "output_type": "stream",
     "text": [
      "Error at index Keep On Truckin' (Part 1): list index out of range\n"
     ]
    },
    {
     "name": "stderr",
     "output_type": "stream",
     "text": [
      "65it [00:36,  1.90it/s]"
     ]
    },
    {
     "name": "stdout",
     "output_type": "stream",
     "text": [
      "Error at index Another Brick In The Wall (Part II): list index out of range\n"
     ]
    },
    {
     "name": "stderr",
     "output_type": "stream",
     "text": [
      "\r",
      "66it [00:37,  2.07it/s]"
     ]
    },
    {
     "name": "stdout",
     "output_type": "stream",
     "text": [
      "Error at index Philadelphia Freedom: list index out of range\n"
     ]
    },
    {
     "name": "stderr",
     "output_type": "stream",
     "text": [
      "70it [00:39,  1.88it/s]"
     ]
    },
    {
     "name": "stdout",
     "output_type": "stream",
     "text": [
      "Error at index Evergreen (Love Theme From \"A Star Is Born\"): list index out of range\n"
     ]
    },
    {
     "name": "stderr",
     "output_type": "stream",
     "text": [
      "76it [00:42,  1.95it/s]"
     ]
    },
    {
     "name": "stdout",
     "output_type": "stream",
     "text": [
      "Error at index I'll Take You There: list index out of range\n"
     ]
    },
    {
     "name": "stderr",
     "output_type": "stream",
     "text": [
      "78it [00:43,  2.19it/s]"
     ]
    },
    {
     "name": "stdout",
     "output_type": "stream",
     "text": [
      "Error at index Imagine: list index out of range\n"
     ]
    },
    {
     "name": "stderr",
     "output_type": "stream",
     "text": [
      "83it [00:46,  1.78it/s]"
     ]
    },
    {
     "name": "stdout",
     "output_type": "stream",
     "text": [
      "Error at index I'm Sorry: list index out of range\n"
     ]
    },
    {
     "name": "stderr",
     "output_type": "stream",
     "text": [
      "\r",
      "84it [00:47,  1.89it/s]"
     ]
    },
    {
     "name": "stdout",
     "output_type": "stream",
     "text": [
      "Error at index Can't Smile Without You: list index out of range\n"
     ]
    },
    {
     "name": "stderr",
     "output_type": "stream",
     "text": [
      "86it [00:48,  2.08it/s]"
     ]
    },
    {
     "name": "stdout",
     "output_type": "stream",
     "text": [
      "Error at index Coming Up (Live At Glasgow): list index out of range\n"
     ]
    },
    {
     "name": "stderr",
     "output_type": "stream",
     "text": [
      "98it [00:55,  1.81it/s]"
     ]
    },
    {
     "name": "stdout",
     "output_type": "stream",
     "text": [
      "Error at index I Like Dreamin': list index out of range\n"
     ]
    },
    {
     "name": "stderr",
     "output_type": "stream",
     "text": [
      "\r",
      "99it [00:56,  1.97it/s]"
     ]
    },
    {
     "name": "stdout",
     "output_type": "stream",
     "text": [
      "Error at index Don't It Make My Brown Eyes Blue: list index out of range\n"
     ]
    },
    {
     "name": "stderr",
     "output_type": "stream",
     "text": [
      "104it [00:58,  2.07it/s]"
     ]
    },
    {
     "name": "stdout",
     "output_type": "stream",
     "text": [
      "Error at index You're The One That I Want: list index out of range\n"
     ]
    },
    {
     "name": "stderr",
     "output_type": "stream",
     "text": [
      "112it [01:03,  1.82it/s]"
     ]
    },
    {
     "name": "stdout",
     "output_type": "stream",
     "text": [
      "Error at index Loves Me Like A Rock: list index out of range\n"
     ]
    },
    {
     "name": "stderr",
     "output_type": "stream",
     "text": [
      "170it [01:42,  1.71it/s]"
     ]
    },
    {
     "name": "stdout",
     "output_type": "stream",
     "text": [
      "Error at index Maggie May/Reason To Believe: list index out of range\n"
     ]
    },
    {
     "name": "stderr",
     "output_type": "stream",
     "text": [
      "206it [02:06,  1.55it/s]"
     ]
    },
    {
     "name": "stdout",
     "output_type": "stream",
     "text": [
      "Error at index I'm Your Boogie Man: list index out of range\n"
     ]
    },
    {
     "name": "stderr",
     "output_type": "stream",
     "text": [
      "220it [02:15,  1.80it/s]"
     ]
    },
    {
     "name": "stdout",
     "output_type": "stream",
     "text": [
      "Error at index Disco Duck (Part I): list index out of range\n"
     ]
    },
    {
     "name": "stderr",
     "output_type": "stream",
     "text": [
      "243it [02:31,  1.68it/s]"
     ]
    },
    {
     "name": "stdout",
     "output_type": "stream",
     "text": [
      "Error at index Cupid/I've Loved You For A Long Time: list index out of range\n"
     ]
    },
    {
     "name": "stderr",
     "output_type": "stream",
     "text": [
      "249it [02:34,  2.05it/s]"
     ]
    },
    {
     "name": "stdout",
     "output_type": "stream",
     "text": [
      "Error at index Don't Go Breaking My Heart: list index out of range\n"
     ]
    },
    {
     "name": "stderr",
     "output_type": "stream",
     "text": [
      "252it [02:36,  1.88it/s]"
     ]
    },
    {
     "name": "stdout",
     "output_type": "stream",
     "text": [
      "Error at index Bridge Over Troubled Water/Brand New Me: list index out of range\n"
     ]
    },
    {
     "name": "stderr",
     "output_type": "stream",
     "text": [
      "255it [02:37,  1.66it/s]"
     ]
    },
    {
     "name": "stdout",
     "output_type": "stream",
     "text": [
      "Error at index Nadia's Theme (The Young And The Restless): list index out of range\n"
     ]
    },
    {
     "name": "stderr",
     "output_type": "stream",
     "text": [
      "259it [02:40,  1.68it/s]"
     ]
    },
    {
     "name": "stdout",
     "output_type": "stream",
     "text": [
      "Error at index Yes, I'm Ready: list index out of range\n"
     ]
    },
    {
     "name": "stderr",
     "output_type": "stream",
     "text": [
      "\r",
      "260it [02:41,  1.85it/s]"
     ]
    },
    {
     "name": "stdout",
     "output_type": "stream",
     "text": [
      "Error at index I'm Still In Love With You: list index out of range\n"
     ]
    },
    {
     "name": "stderr",
     "output_type": "stream",
     "text": [
      "274it [02:50,  1.79it/s]"
     ]
    },
    {
     "name": "stdout",
     "output_type": "stream",
     "text": [
      "Error at index The Candy Man: list index out of range\n"
     ]
    },
    {
     "name": "stderr",
     "output_type": "stream",
     "text": [
      "280it [02:54,  1.66it/s]"
     ]
    },
    {
     "name": "stdout",
     "output_type": "stream",
     "text": [
      "Error at index You're In My Heart (The Final Acclaim): list index out of range\n"
     ]
    },
    {
     "name": "stderr",
     "output_type": "stream",
     "text": [
      "282it [02:55,  1.83it/s]"
     ]
    },
    {
     "name": "stdout",
     "output_type": "stream",
     "text": [
      "Error at index Don't Fall In Love With A Dreamer: list index out of range\n"
     ]
    },
    {
     "name": "stderr",
     "output_type": "stream",
     "text": [
      "284it [02:56,  1.92it/s]"
     ]
    },
    {
     "name": "stdout",
     "output_type": "stream",
     "text": [
      "Error at index You're The First, The Last, My Everything: list index out of range\n"
     ]
    },
    {
     "name": "stderr",
     "output_type": "stream",
     "text": [
      "\r",
      "285it [02:56,  2.11it/s]"
     ]
    },
    {
     "name": "stdout",
     "output_type": "stream",
     "text": [
      "Error at index Then Came You: list index out of range\n"
     ]
    },
    {
     "name": "stderr",
     "output_type": "stream",
     "text": [
      "289it [02:59,  1.84it/s]"
     ]
    },
    {
     "name": "stdout",
     "output_type": "stream",
     "text": [
      "Error at index Doesn't Somebody Want To Be Wanted: list index out of range\n"
     ]
    },
    {
     "name": "stderr",
     "output_type": "stream",
     "text": [
      "295it [03:03,  1.34it/s]"
     ]
    },
    {
     "name": "stdout",
     "output_type": "stream",
     "text": [
      "Error at index I've Got To Use My Imagination: list index out of range\n"
     ]
    },
    {
     "name": "stderr",
     "output_type": "stream",
     "text": [
      "303it [03:09,  1.71it/s]"
     ]
    },
    {
     "name": "stdout",
     "output_type": "stream",
     "text": [
      "Error at index Don't Give Up On Us: list index out of range\n"
     ]
    },
    {
     "name": "stderr",
     "output_type": "stream",
     "text": [
      "310it [03:13,  1.58it/s]"
     ]
    },
    {
     "name": "stdout",
     "output_type": "stream",
     "text": [
      "Error at index Heartbeat - It's A Lovebeat: list index out of range\n"
     ]
    },
    {
     "name": "stderr",
     "output_type": "stream",
     "text": [
      "321it [03:21,  1.55it/s]"
     ]
    },
    {
     "name": "stdout",
     "output_type": "stream",
     "text": [
      "Error at index We're An American Band: list index out of range\n"
     ]
    },
    {
     "name": "stderr",
     "output_type": "stream",
     "text": [
      "328it [03:26,  1.53it/s]"
     ]
    },
    {
     "name": "stdout",
     "output_type": "stream",
     "text": [
      "Error at index You'll Never Find Another Love Like Mine: list index out of range\n"
     ]
    },
    {
     "name": "stderr",
     "output_type": "stream",
     "text": [
      "336it [03:31,  1.87it/s]"
     ]
    },
    {
     "name": "stdout",
     "output_type": "stream",
     "text": [
      "Error at index Pick Up The Pieces: list index out of range\n"
     ]
    },
    {
     "name": "stderr",
     "output_type": "stream",
     "text": [
      "348it [03:38,  1.61it/s]"
     ]
    },
    {
     "name": "stdout",
     "output_type": "stream",
     "text": [
      "Error at index Rockin' Pneumonia - Boogie Woogie Flu: list index out of range\n"
     ]
    },
    {
     "name": "stderr",
     "output_type": "stream",
     "text": [
      "353it [03:41,  1.67it/s]"
     ]
    },
    {
     "name": "stdout",
     "output_type": "stream",
     "text": [
      "Error at index Swayin' To The Music (slow Dancin'): list index out of range\n"
     ]
    },
    {
     "name": "stderr",
     "output_type": "stream",
     "text": [
      "356it [03:43,  1.72it/s]"
     ]
    },
    {
     "name": "stdout",
     "output_type": "stream",
     "text": [
      "Error at index Dueling Banjos: list index out of range\n"
     ]
    },
    {
     "name": "stderr",
     "output_type": "stream",
     "text": [
      "370it [03:52,  1.72it/s]"
     ]
    },
    {
     "name": "stdout",
     "output_type": "stream",
     "text": [
      "Error at index Beth/Detroit Rock City: list index out of range\n"
     ]
    },
    {
     "name": "stderr",
     "output_type": "stream",
     "text": [
      "386it [04:01,  1.97it/s]"
     ]
    },
    {
     "name": "stdout",
     "output_type": "stream",
     "text": [
      "Error at index You Ain't Seen Nothing Yet/Free Wheelin': list index out of range\n"
     ]
    },
    {
     "name": "stderr",
     "output_type": "stream",
     "text": [
      "415it [04:19,  1.73it/s]"
     ]
    },
    {
     "name": "stdout",
     "output_type": "stream",
     "text": [
      "Error at index (You're) Having My Baby: list index out of range\n"
     ]
    },
    {
     "name": "stderr",
     "output_type": "stream",
     "text": [
      "448it [04:40,  1.77it/s]"
     ]
    },
    {
     "name": "stdout",
     "output_type": "stream",
     "text": [
      "Error at index I'm Coming Out: list index out of range\n"
     ]
    },
    {
     "name": "stderr",
     "output_type": "stream",
     "text": [
      "470it [04:54,  1.64it/s]"
     ]
    },
    {
     "name": "stdout",
     "output_type": "stream",
     "text": [
      "Error at index Another Day/Oh Woman Oh Why: list index out of range\n"
     ]
    },
    {
     "name": "stderr",
     "output_type": "stream",
     "text": [
      "474it [04:56,  1.93it/s]"
     ]
    },
    {
     "name": "stdout",
     "output_type": "stream",
     "text": [
      "Error at index I've Got Love On My Mind: list index out of range\n"
     ]
    },
    {
     "name": "stderr",
     "output_type": "stream",
     "text": [
      "477it [04:58,  1.86it/s]"
     ]
    },
    {
     "name": "stdout",
     "output_type": "stream",
     "text": [
      "Error at index Pillow Talk: list index out of range\n"
     ]
    },
    {
     "name": "stderr",
     "output_type": "stream",
     "text": [
      "\r",
      "478it [04:58,  2.10it/s]"
     ]
    },
    {
     "name": "stdout",
     "output_type": "stream",
     "text": [
      "Error at index (Every Time I Turn Around) Back In Love Again: list index out of range\n"
     ]
    },
    {
     "name": "stderr",
     "output_type": "stream",
     "text": [
      "482it [05:01,  1.90it/s]"
     ]
    },
    {
     "name": "stdout",
     "output_type": "stream",
     "text": [
      "Error at index Desire: list index out of range\n"
     ]
    },
    {
     "name": "stderr",
     "output_type": "stream",
     "text": [
      "487it [05:04,  1.72it/s]"
     ]
    },
    {
     "name": "stdout",
     "output_type": "stream",
     "text": [
      "Error at index Don't Cry Out Loud: list index out of range\n"
     ]
    },
    {
     "name": "stderr",
     "output_type": "stream",
     "text": [
      "489it [05:05,  1.79it/s]"
     ]
    },
    {
     "name": "stdout",
     "output_type": "stream",
     "text": [
      "Error at index Junior's Farm/Sally G: list index out of range\n"
     ]
    },
    {
     "name": "stderr",
     "output_type": "stream",
     "text": [
      "493it [05:08,  1.69it/s]"
     ]
    },
    {
     "name": "stdout",
     "output_type": "stream",
     "text": [
      "Error at index I'm In You: list index out of range\n"
     ]
    },
    {
     "name": "stderr",
     "output_type": "stream",
     "text": [
      "496it [05:10,  1.77it/s]"
     ]
    },
    {
     "name": "stdout",
     "output_type": "stream",
     "text": [
      "Error at index Couldn't Get It Right: list index out of range\n"
     ]
    },
    {
     "name": "stderr",
     "output_type": "stream",
     "text": [
      "500it [05:12,  1.93it/s]"
     ]
    },
    {
     "name": "stdout",
     "output_type": "stream",
     "text": [
      "Error at index Pay To The Piper: list index out of range\n"
     ]
    },
    {
     "name": "stderr",
     "output_type": "stream",
     "text": [
      "510it [05:18,  1.46it/s]"
     ]
    },
    {
     "name": "stdout",
     "output_type": "stream",
     "text": [
      "Error at index I'm Not Lisa: list index out of range\n"
     ]
    },
    {
     "name": "stderr",
     "output_type": "stream",
     "text": [
      "528it [05:30,  1.60it/s]"
     ]
    },
    {
     "name": "stdout",
     "output_type": "stream",
     "text": [
      "Error at index Superstar: list index out of range\n"
     ]
    },
    {
     "name": "stderr",
     "output_type": "stream",
     "text": [
      "531it [05:32,  1.87it/s]"
     ]
    },
    {
     "name": "stdout",
     "output_type": "stream",
     "text": [
      "Error at index We're All Alone: list index out of range\n"
     ]
    },
    {
     "name": "stderr",
     "output_type": "stream",
     "text": [
      "538it [05:36,  1.68it/s]"
     ]
    },
    {
     "name": "stdout",
     "output_type": "stream",
     "text": [
      "Error at index Superstar/Bless The Beasts And Children: list index out of range\n"
     ]
    },
    {
     "name": "stderr",
     "output_type": "stream",
     "text": [
      "545it [05:40,  1.78it/s]"
     ]
    },
    {
     "name": "stdout",
     "output_type": "stream",
     "text": [
      "Error at index You've Lost That Lovin' Feeling: list index out of range\n"
     ]
    },
    {
     "name": "stderr",
     "output_type": "stream",
     "text": [
      "549it [05:43,  1.78it/s]"
     ]
    },
    {
     "name": "stdout",
     "output_type": "stream",
     "text": [
      "Error at index You're Only Lonely: list index out of range\n"
     ]
    },
    {
     "name": "stderr",
     "output_type": "stream",
     "text": [
      "551it [05:44,  1.78it/s]"
     ]
    },
    {
     "name": "stdout",
     "output_type": "stream",
     "text": [
      "Error at index Dreaming: list index out of range\n"
     ]
    },
    {
     "name": "stderr",
     "output_type": "stream",
     "text": [
      "554it [05:46,  1.97it/s]"
     ]
    },
    {
     "name": "stdout",
     "output_type": "stream",
     "text": [
      "Error at index Don't Bring Me Down: list index out of range\n"
     ]
    },
    {
     "name": "stderr",
     "output_type": "stream",
     "text": [
      "556it [05:46,  2.12it/s]"
     ]
    },
    {
     "name": "stdout",
     "output_type": "stream",
     "text": [
      "Error at index I'm Not In Love: list index out of range\n"
     ]
    },
    {
     "name": "stderr",
     "output_type": "stream",
     "text": [
      "561it [05:49,  2.07it/s]"
     ]
    },
    {
     "name": "stdout",
     "output_type": "stream",
     "text": [
      "Error at index We Gotta Get You A Woman: list index out of range\n"
     ]
    },
    {
     "name": "stderr",
     "output_type": "stream",
     "text": [
      "570it [05:55,  1.75it/s]"
     ]
    },
    {
     "name": "stdout",
     "output_type": "stream",
     "text": [
      "Error at index I'll Be Good To You: list index out of range\n"
     ]
    },
    {
     "name": "stderr",
     "output_type": "stream",
     "text": [
      "572it [05:56,  1.84it/s]"
     ]
    },
    {
     "name": "stdout",
     "output_type": "stream",
     "text": [
      "Error at index Heat Wave/love Is A Rose: list index out of range\n"
     ]
    },
    {
     "name": "stderr",
     "output_type": "stream",
     "text": [
      "575it [05:58,  1.80it/s]"
     ]
    },
    {
     "name": "stdout",
     "output_type": "stream",
     "text": [
      "Error at index I'm Gonna Love You Just A Little More Baby: list index out of range\n"
     ]
    },
    {
     "name": "stderr",
     "output_type": "stream",
     "text": [
      "580it [06:01,  1.57it/s]"
     ]
    },
    {
     "name": "stdout",
     "output_type": "stream",
     "text": [
      "Error at index River Deep - Mountain High: list index out of range\n"
     ]
    },
    {
     "name": "stderr",
     "output_type": "stream",
     "text": [
      "582it [06:03,  1.45it/s]"
     ]
    },
    {
     "name": "stdout",
     "output_type": "stream",
     "text": [
      "Error at index I'm Alright: list index out of range\n"
     ]
    },
    {
     "name": "stderr",
     "output_type": "stream",
     "text": [
      "588it [06:07,  1.67it/s]"
     ]
    },
    {
     "name": "stdout",
     "output_type": "stream",
     "text": [
      "Error at index Ain't No Woman (Like The One I've Got): list index out of range\n"
     ]
    },
    {
     "name": "stderr",
     "output_type": "stream",
     "text": [
      "637it [06:39,  1.66it/s]"
     ]
    },
    {
     "name": "stdout",
     "output_type": "stream",
     "text": [
      "Error at index Heaven Knows: list index out of range\n"
     ]
    },
    {
     "name": "stderr",
     "output_type": "stream",
     "text": [
      "642it [06:42,  1.57it/s]"
     ]
    },
    {
     "name": "stdout",
     "output_type": "stream",
     "text": [
      "Error at index Don't Stop 'til You Get Enough: list index out of range\n"
     ]
    },
    {
     "name": "stderr",
     "output_type": "stream",
     "text": [
      "644it [06:44,  1.43it/s]"
     ]
    },
    {
     "name": "stdout",
     "output_type": "stream",
     "text": [
      "Error at index I'll Be There: list index out of range\n"
     ]
    },
    {
     "name": "stderr",
     "output_type": "stream",
     "text": [
      "646it [06:45,  1.61it/s]"
     ]
    },
    {
     "name": "stdout",
     "output_type": "stream",
     "text": [
      "Error at index Don't Pull Your Love: list index out of range\n"
     ]
    },
    {
     "name": "stderr",
     "output_type": "stream",
     "text": [
      "687it [07:14,  1.54it/s]"
     ]
    },
    {
     "name": "stdout",
     "output_type": "stream",
     "text": [
      "Error at index Sweet And Innocent: list index out of range\n"
     ]
    },
    {
     "name": "stderr",
     "output_type": "stream",
     "text": [
      "732it [07:46,  1.57it/s]"
     ]
    },
    {
     "name": "stdout",
     "output_type": "stream",
     "text": [
      "Error at index Don't Do Me Like That: list index out of range\n"
     ]
    },
    {
     "name": "stderr",
     "output_type": "stream",
     "text": [
      "740it [07:51,  1.68it/s]"
     ]
    },
    {
     "name": "stdout",
     "output_type": "stream",
     "text": [
      "Error at index Brass In Pocket (I'm Special): list index out of range\n"
     ]
    },
    {
     "name": "stderr",
     "output_type": "stream",
     "text": [
      "743it [07:52,  1.78it/s]"
     ]
    },
    {
     "name": "stdout",
     "output_type": "stream",
     "text": [
      "Error at index You're My World: list index out of range\n"
     ]
    },
    {
     "name": "stderr",
     "output_type": "stream",
     "text": [
      "751it [07:58,  1.68it/s]"
     ]
    },
    {
     "name": "stdout",
     "output_type": "stream",
     "text": [
      "Error at index Beginnings/Colour My World: list index out of range\n"
     ]
    },
    {
     "name": "stderr",
     "output_type": "stream",
     "text": [
      "760it [08:04,  1.43it/s]"
     ]
    },
    {
     "name": "stdout",
     "output_type": "stream",
     "text": [
      "Error at index Don't Look Back: list index out of range\n"
     ]
    },
    {
     "name": "stderr",
     "output_type": "stream",
     "text": [
      "764it [08:07,  1.69it/s]"
     ]
    },
    {
     "name": "stdout",
     "output_type": "stream",
     "text": [
      "Error at index Garden Party: list index out of range\n"
     ]
    },
    {
     "name": "stderr",
     "output_type": "stream",
     "text": [
      "776it [08:15,  1.53it/s]"
     ]
    },
    {
     "name": "stdout",
     "output_type": "stream",
     "text": [
      "Error at index Smoke From A Distant Fire: list index out of range\n"
     ]
    },
    {
     "name": "stderr",
     "output_type": "stream",
     "text": [
      "782it [08:19,  1.68it/s]"
     ]
    },
    {
     "name": "stdout",
     "output_type": "stream",
     "text": [
      "Error at index (i've Been) Searchin' So Long: list index out of range\n"
     ]
    },
    {
     "name": "stderr",
     "output_type": "stream",
     "text": [
      "788it [08:22,  1.61it/s]"
     ]
    },
    {
     "name": "stdout",
     "output_type": "stream",
     "text": [
      "Error at index Cut The Cake: list index out of range\n"
     ]
    },
    {
     "name": "stderr",
     "output_type": "stream",
     "text": [
      "800it [08:31,  1.38it/s]"
     ]
    },
    {
     "name": "stdout",
     "output_type": "stream",
     "text": [
      "Error at index I'm Leaving It (All) Up To You: list index out of range\n"
     ]
    },
    {
     "name": "stderr",
     "output_type": "stream",
     "text": [
      "804it [08:34,  1.56it/s]"
     ]
    },
    {
     "name": "stdout",
     "output_type": "stream",
     "text": [
      "Error at index Help Me: list index out of range\n"
     ]
    },
    {
     "name": "stderr",
     "output_type": "stream",
     "text": [
      "807it [08:36,  1.64it/s]"
     ]
    },
    {
     "name": "stdout",
     "output_type": "stream",
     "text": [
      "Error at index I Don't Like To Sleep Alone: list index out of range\n"
     ]
    },
    {
     "name": "stderr",
     "output_type": "stream",
     "text": [
      "\r",
      "808it [08:36,  1.55it/s]"
     ]
    },
    {
     "name": "stdout",
     "output_type": "stream",
     "text": [
      "Error at index I'd Like To Teach The World To Sing (In Perfect Harmony): list index out of range\n"
     ]
    },
    {
     "name": "stderr",
     "output_type": "stream",
     "text": [
      "825it [08:48,  1.54it/s]"
     ]
    },
    {
     "name": "stdout",
     "output_type": "stream",
     "text": [
      "Error at index I'm Doin' Fine Now: list index out of range\n"
     ]
    },
    {
     "name": "stderr",
     "output_type": "stream",
     "text": [
      "828it [08:50,  1.71it/s]"
     ]
    },
    {
     "name": "stdout",
     "output_type": "stream",
     "text": [
      "Error at index Stick-Up: list index out of range\n"
     ]
    },
    {
     "name": "stderr",
     "output_type": "stream",
     "text": [
      "831it [08:52,  1.79it/s]"
     ]
    },
    {
     "name": "stdout",
     "output_type": "stream",
     "text": [
      "Error at index Whatever Gets You Thru The Night: list index out of range\n"
     ]
    },
    {
     "name": "stderr",
     "output_type": "stream",
     "text": [
      "835it [08:54,  1.65it/s]"
     ]
    },
    {
     "name": "stdout",
     "output_type": "stream",
     "text": [
      "Error at index One Man Woman/One Woman Man: list index out of range\n"
     ]
    },
    {
     "name": "stderr",
     "output_type": "stream",
     "text": [
      "849it [09:03,  1.62it/s]"
     ]
    },
    {
     "name": "stdout",
     "output_type": "stream",
     "text": [
      "Error at index Freddie's Dead (Theme From \"Superfly\"): list index out of range\n"
     ]
    },
    {
     "name": "stderr",
     "output_type": "stream",
     "text": [
      "856it [09:08,  1.82it/s]"
     ]
    },
    {
     "name": "stdout",
     "output_type": "stream",
     "text": [
      "Error at index Ain't No Stoppin' Us Now: list index out of range\n"
     ]
    },
    {
     "name": "stderr",
     "output_type": "stream",
     "text": [
      "860it [09:10,  1.80it/s]"
     ]
    },
    {
     "name": "stdout",
     "output_type": "stream",
     "text": [
      "Error at index That'll Be The Day: list index out of range\n"
     ]
    },
    {
     "name": "stderr",
     "output_type": "stream",
     "text": [
      "864it [09:13,  1.71it/s]"
     ]
    },
    {
     "name": "stdout",
     "output_type": "stream",
     "text": [
      "Error at index Shake It: list index out of range\n"
     ]
    },
    {
     "name": "stderr",
     "output_type": "stream",
     "text": [
      "870it [09:17,  1.60it/s]"
     ]
    },
    {
     "name": "stdout",
     "output_type": "stream",
     "text": [
      "Error at index You're No Good: list index out of range\n"
     ]
    },
    {
     "name": "stderr",
     "output_type": "stream",
     "text": [
      "873it [09:18,  1.81it/s]"
     ]
    },
    {
     "name": "stdout",
     "output_type": "stream",
     "text": [
      "Error at index No No Song/snookeroo: list index out of range\n"
     ]
    },
    {
     "name": "stderr",
     "output_type": "stream",
     "text": [
      "875it [09:19,  1.94it/s]"
     ]
    },
    {
     "name": "stdout",
     "output_type": "stream",
     "text": [
      "Error at index Dynomite-Part I: list index out of range\n"
     ]
    },
    {
     "name": "stderr",
     "output_type": "stream",
     "text": [
      "\r",
      "876it [09:20,  2.09it/s]"
     ]
    },
    {
     "name": "stdout",
     "output_type": "stream",
     "text": [
      "Error at index I'm Easy: list index out of range\n"
     ]
    },
    {
     "name": "stderr",
     "output_type": "stream",
     "text": [
      "878it [09:21,  1.96it/s]"
     ]
    },
    {
     "name": "stdout",
     "output_type": "stream",
     "text": [
      "Error at index Don't Let Go: list index out of range\n"
     ]
    },
    {
     "name": "stderr",
     "output_type": "stream",
     "text": [
      "885it [09:26,  1.50it/s]"
     ]
    },
    {
     "name": "stdout",
     "output_type": "stream",
     "text": [
      "Error at index Baby Face: list index out of range\n"
     ]
    },
    {
     "name": "stderr",
     "output_type": "stream",
     "text": [
      "890it [09:30,  1.46it/s]"
     ]
    },
    {
     "name": "stdout",
     "output_type": "stream",
     "text": [
      "Error at index I've Found Someone Of My Own: list index out of range\n"
     ]
    },
    {
     "name": "stderr",
     "output_type": "stream",
     "text": [
      "903it [09:39,  1.53it/s]"
     ]
    },
    {
     "name": "stdout",
     "output_type": "stream",
     "text": [
      "Error at index Have You Ever Seen The Rain/Hey Tonight: list index out of range\n"
     ]
    },
    {
     "name": "stderr",
     "output_type": "stream",
     "text": [
      "\r",
      "904it [09:39,  1.68it/s]"
     ]
    },
    {
     "name": "stdout",
     "output_type": "stream",
     "text": [
      "Error at index Hey Girl/I Knew You When: list index out of range\n"
     ]
    },
    {
     "name": "stderr",
     "output_type": "stream",
     "text": [
      "916it [09:47,  1.73it/s]"
     ]
    },
    {
     "name": "stdout",
     "output_type": "stream",
     "text": [
      "Error at index Promises: list index out of range\n"
     ]
    },
    {
     "name": "stderr",
     "output_type": "stream",
     "text": [
      "921it [09:51,  1.65it/s]"
     ]
    },
    {
     "name": "stdout",
     "output_type": "stream",
     "text": [
      "Error at index Xanadu: list index out of range\n"
     ]
    },
    {
     "name": "stderr",
     "output_type": "stream",
     "text": [
      "\r",
      "922it [09:51,  1.73it/s]"
     ]
    },
    {
     "name": "stdout",
     "output_type": "stream",
     "text": [
      "Error at index You Are So Beautiful/It's A Sin When You Love Somebody: list index out of range\n"
     ]
    },
    {
     "name": "stderr",
     "output_type": "stream",
     "text": [
      "927it [09:54,  1.80it/s]"
     ]
    },
    {
     "name": "stdout",
     "output_type": "stream",
     "text": [
      "Error at index Easy Loving: list index out of range\n"
     ]
    },
    {
     "name": "stderr",
     "output_type": "stream",
     "text": [
      "934it [09:59,  1.53it/s]"
     ]
    },
    {
     "name": "stdout",
     "output_type": "stream",
     "text": [
      "Error at index An American Dream: list index out of range\n"
     ]
    },
    {
     "name": "stderr",
     "output_type": "stream",
     "text": [
      "936it [10:00,  1.69it/s]"
     ]
    },
    {
     "name": "stdout",
     "output_type": "stream",
     "text": [
      "Error at index I've Got The Music In Me: list index out of range\n"
     ]
    },
    {
     "name": "stderr",
     "output_type": "stream",
     "text": [
      "\r",
      "937it [10:00,  1.92it/s]"
     ]
    },
    {
     "name": "stdout",
     "output_type": "stream",
     "text": [
      "Error at index I Woke Up In Love This Morning: list index out of range\n"
     ]
    },
    {
     "name": "stderr",
     "output_type": "stream",
     "text": [
      "943it [10:04,  1.50it/s]"
     ]
    },
    {
     "name": "stdout",
     "output_type": "stream",
     "text": [
      "Error at index Don't Let The Sun Go Down On Me: list index out of range\n"
     ]
    },
    {
     "name": "stderr",
     "output_type": "stream",
     "text": [
      "948it [10:08,  1.51it/s]"
     ]
    },
    {
     "name": "stdout",
     "output_type": "stream",
     "text": [
      "Error at index Don't Call Us, We'll Call You: list index out of range\n"
     ]
    },
    {
     "name": "stderr",
     "output_type": "stream",
     "text": [
      "954it [10:11,  1.87it/s]"
     ]
    },
    {
     "name": "stdout",
     "output_type": "stream",
     "text": [
      "Error at index Isn't It Time: list index out of range\n"
     ]
    },
    {
     "name": "stderr",
     "output_type": "stream",
     "text": [
      "982it [10:30,  1.46it/s]"
     ]
    },
    {
     "name": "stdout",
     "output_type": "stream",
     "text": [
      "Error at index Can't Get It Out Of My Head: list index out of range\n"
     ]
    },
    {
     "name": "stderr",
     "output_type": "stream",
     "text": [
      "987it [10:34,  1.39it/s]"
     ]
    },
    {
     "name": "stdout",
     "output_type": "stream",
     "text": [
      "Error at index Can't Get Enough Of Your Love, Babe: list index out of range\n"
     ]
    },
    {
     "name": "stderr",
     "output_type": "stream",
     "text": [
      "1000it [10:43,  1.42it/s]"
     ]
    },
    {
     "name": "stdout",
     "output_type": "stream",
     "text": [
      "Error at index You're A Special Part Of Me: list index out of range\n"
     ]
    },
    {
     "name": "stderr",
     "output_type": "stream",
     "text": [
      "1003it [10:45,  1.44it/s]"
     ]
    },
    {
     "name": "stdout",
     "output_type": "stream",
     "text": [
      "Error at index Who'd She Coo?: list index out of range\n"
     ]
    },
    {
     "name": "stderr",
     "output_type": "stream",
     "text": [
      "1010it [10:49,  1.75it/s]"
     ]
    },
    {
     "name": "stdout",
     "output_type": "stream",
     "text": [
      "Error at index Americans: list index out of range\n"
     ]
    },
    {
     "name": "stderr",
     "output_type": "stream",
     "text": [
      "1017it [10:54,  1.81it/s]"
     ]
    },
    {
     "name": "stdout",
     "output_type": "stream",
     "text": [
      "Error at index Don't Let Me Be Misunderstood: list index out of range\n"
     ]
    },
    {
     "name": "stderr",
     "output_type": "stream",
     "text": [
      "1021it [10:56,  1.56it/s]"
     ]
    },
    {
     "name": "stdout",
     "output_type": "stream",
     "text": [
      "Error at index I Am...I Said/Done Too Soon: list index out of range\n"
     ]
    },
    {
     "name": "stderr",
     "output_type": "stream",
     "text": [
      "\r",
      "1022it [10:57,  1.72it/s]"
     ]
    },
    {
     "name": "stdout",
     "output_type": "stream",
     "text": [
      "Error at index Love's Grown Deep: list index out of range\n"
     ]
    },
    {
     "name": "stderr",
     "output_type": "stream",
     "text": [
      "1028it [11:01,  1.54it/s]"
     ]
    },
    {
     "name": "stdout",
     "output_type": "stream",
     "text": [
      "Error at index Ain't No Way To Treat A Lady: list index out of range\n"
     ]
    },
    {
     "name": "stderr",
     "output_type": "stream",
     "text": [
      "1042it [11:11,  1.61it/s]"
     ]
    },
    {
     "name": "stdout",
     "output_type": "stream",
     "text": [
      "Error at index Whispering/Cherchez La Femme/Se Si Bon: list index out of range\n"
     ]
    },
    {
     "name": "stderr",
     "output_type": "stream",
     "text": [
      "1054it [11:19,  1.57it/s]"
     ]
    },
    {
     "name": "stdout",
     "output_type": "stream",
     "text": [
      "Error at index Jambalaya (On The Bayou): list index out of range\n"
     ]
    },
    {
     "name": "stderr",
     "output_type": "stream",
     "text": [
      "1059it [11:22,  1.65it/s]"
     ]
    },
    {
     "name": "stdout",
     "output_type": "stream",
     "text": [
      "Error at index Black Superman - \"Muhammad Ali\": list index out of range\n"
     ]
    },
    {
     "name": "stderr",
     "output_type": "stream",
     "text": [
      "1061it [11:24,  1.57it/s]"
     ]
    },
    {
     "name": "stdout",
     "output_type": "stream",
     "text": [
      "Error at index Vincent (Starry, Starry Night)/Castles In The Air: list index out of range\n"
     ]
    },
    {
     "name": "stderr",
     "output_type": "stream",
     "text": [
      "1063it [11:25,  1.63it/s]"
     ]
    },
    {
     "name": "stdout",
     "output_type": "stream",
     "text": [
      "Error at index Ain't Gonna Bump No More (with No Big Fat Woman): list index out of range\n"
     ]
    },
    {
     "name": "stderr",
     "output_type": "stream",
     "text": [
      "1071it [11:30,  1.75it/s]"
     ]
    },
    {
     "name": "stdout",
     "output_type": "stream",
     "text": [
      "Error at index You're The Only Woman (You & I): list index out of range\n"
     ]
    },
    {
     "name": "stderr",
     "output_type": "stream",
     "text": [
      "1073it [11:31,  1.72it/s]"
     ]
    },
    {
     "name": "stdout",
     "output_type": "stream",
     "text": [
      "Error at index Should've Never Let You Go: list index out of range\n"
     ]
    },
    {
     "name": "stderr",
     "output_type": "stream",
     "text": [
      "1080it [11:36,  1.35it/s]"
     ]
    },
    {
     "name": "stdout",
     "output_type": "stream",
     "text": [
      "Error at index Supernatural Thing - Part I: list index out of range\n"
     ]
    },
    {
     "name": "stderr",
     "output_type": "stream",
     "text": [
      "1083it [11:38,  1.60it/s]"
     ]
    },
    {
     "name": "stdout",
     "output_type": "stream",
     "text": [
      "Error at index We've Got Tonight: list index out of range\n"
     ]
    },
    {
     "name": "stderr",
     "output_type": "stream",
     "text": [
      "1093it [11:45,  1.84it/s]"
     ]
    },
    {
     "name": "stdout",
     "output_type": "stream",
     "text": [
      "Error at index I'd Like To Teach The World To Sing (In Perfect Harmony): list index out of range\n"
     ]
    },
    {
     "name": "stderr",
     "output_type": "stream",
     "text": [
      "1097it [11:47,  1.62it/s]"
     ]
    },
    {
     "name": "stdout",
     "output_type": "stream",
     "text": [
      "Error at index Don't You Worry 'Bout A Thing: list index out of range\n"
     ]
    },
    {
     "name": "stderr",
     "output_type": "stream",
     "text": [
      "1111it [11:57,  1.79it/s]"
     ]
    },
    {
     "name": "stdout",
     "output_type": "stream",
     "text": [
      "Error at index Don't Say You Don't Remember: list index out of range\n"
     ]
    },
    {
     "name": "stderr",
     "output_type": "stream",
     "text": [
      "1133it [12:12,  1.58it/s]"
     ]
    },
    {
     "name": "stdout",
     "output_type": "stream",
     "text": [
      "Error at index Don't Let Me Be Lonely Tonight: list index out of range\n"
     ]
    },
    {
     "name": "stderr",
     "output_type": "stream",
     "text": [
      "1149it [12:23,  1.58it/s]"
     ]
    },
    {
     "name": "stdout",
     "output_type": "stream",
     "text": [
      "Error at index I'm Just A Singer (In A Rock And Roll Band): list index out of range\n"
     ]
    },
    {
     "name": "stderr",
     "output_type": "stream",
     "text": [
      "1154it [12:26,  1.71it/s]"
     ]
    },
    {
     "name": "stdout",
     "output_type": "stream",
     "text": [
      "Error at index I'll Meet You Halfway: list index out of range\n"
     ]
    },
    {
     "name": "stderr",
     "output_type": "stream",
     "text": [
      "\r",
      "1155it [12:26,  1.80it/s]"
     ]
    },
    {
     "name": "stdout",
     "output_type": "stream",
     "text": [
      "Error at index Don't Worry Baby: list index out of range\n"
     ]
    },
    {
     "name": "stderr",
     "output_type": "stream",
     "text": [
      "1161it [12:30,  1.62it/s]"
     ]
    },
    {
     "name": "stdout",
     "output_type": "stream",
     "text": [
      "Error at index I Feel A Song (In My Heart)/Don't Burn Down The Bridge: list index out of range\n"
     ]
    },
    {
     "name": "stderr",
     "output_type": "stream",
     "text": [
      "1166it [12:34,  1.36it/s]"
     ]
    },
    {
     "name": "stdout",
     "output_type": "stream",
     "text": [
      "Error at index Funky Nassau-Part I: list index out of range\n"
     ]
    },
    {
     "name": "stderr",
     "output_type": "stream",
     "text": [
      "1170it [12:36,  1.74it/s]"
     ]
    },
    {
     "name": "stdout",
     "output_type": "stream",
     "text": [
      "Error at index You'll Accomp'ny Me: list index out of range\n"
     ]
    },
    {
     "name": "stderr",
     "output_type": "stream",
     "text": [
      "1201it [12:57,  1.71it/s]"
     ]
    },
    {
     "name": "stdout",
     "output_type": "stream",
     "text": [
      "Error at index I'm On Fire: list index out of range\n"
     ]
    },
    {
     "name": "stderr",
     "output_type": "stream",
     "text": [
      "1212it [13:03,  1.90it/s]"
     ]
    },
    {
     "name": "stdout",
     "output_type": "stream",
     "text": [
      "Error at index Don't Knock My Love - Pt. 1: list index out of range\n"
     ]
    },
    {
     "name": "stderr",
     "output_type": "stream",
     "text": [
      "1221it [13:09,  1.62it/s]"
     ]
    },
    {
     "name": "stdout",
     "output_type": "stream",
     "text": [
      "Error at index I'll Play For You: list index out of range\n"
     ]
    },
    {
     "name": "stderr",
     "output_type": "stream",
     "text": [
      "1225it [13:11,  1.78it/s]"
     ]
    },
    {
     "name": "stdout",
     "output_type": "stream",
     "text": [
      "Error at index Don't Hold Back: list index out of range\n"
     ]
    },
    {
     "name": "stderr",
     "output_type": "stream",
     "text": [
      "1233it [13:17,  1.38it/s]"
     ]
    },
    {
     "name": "stdout",
     "output_type": "stream",
     "text": [
      "Error at index All Night Long: list index out of range\n"
     ]
    },
    {
     "name": "stderr",
     "output_type": "stream",
     "text": [
      "1237it [13:19,  1.69it/s]"
     ]
    },
    {
     "name": "stdout",
     "output_type": "stream",
     "text": [
      "Error at index Mighty Love - Pt. 1: list index out of range\n"
     ]
    },
    {
     "name": "stderr",
     "output_type": "stream",
     "text": [
      "1241it [13:22,  1.67it/s]"
     ]
    },
    {
     "name": "stdout",
     "output_type": "stream",
     "text": [
      "Error at index Uptown Festival (Part 1): list index out of range\n"
     ]
    },
    {
     "name": "stderr",
     "output_type": "stream",
     "text": [
      "1250it [13:28,  1.58it/s]"
     ]
    },
    {
     "name": "stdout",
     "output_type": "stream",
     "text": [
      "Error at index So Far Away/Smackwater Jack: list index out of range\n"
     ]
    },
    {
     "name": "stderr",
     "output_type": "stream",
     "text": [
      "1263it [13:37,  1.76it/s]"
     ]
    },
    {
     "name": "stdout",
     "output_type": "stream",
     "text": [
      "Error at index Livin' It Up (Friday Night): list index out of range\n"
     ]
    },
    {
     "name": "stderr",
     "output_type": "stream",
     "text": [
      "1298it [14:01,  1.99it/s]"
     ]
    },
    {
     "name": "stdout",
     "output_type": "stream",
     "text": [
      "Error at index One Monkey Don't Stop No Show Part I: list index out of range\n"
     ]
    },
    {
     "name": "stderr",
     "output_type": "stream",
     "text": [
      "1300it [14:02,  2.02it/s]"
     ]
    },
    {
     "name": "stdout",
     "output_type": "stream",
     "text": [
      "Error at index Rainbow Connection: list index out of range\n"
     ]
    },
    {
     "name": "stderr",
     "output_type": "stream",
     "text": [
      "1306it [14:06,  1.44it/s]"
     ]
    },
    {
     "name": "stdout",
     "output_type": "stream",
     "text": [
      "Error at index Why/Lonely Boy: list index out of range\n"
     ]
    },
    {
     "name": "stderr",
     "output_type": "stream",
     "text": [
      "1308it [14:08,  1.53it/s]"
     ]
    },
    {
     "name": "stdout",
     "output_type": "stream",
     "text": [
      "Error at index Ain't Understanding Mellow: list index out of range\n"
     ]
    },
    {
     "name": "stderr",
     "output_type": "stream",
     "text": [
      "1310it [14:09,  1.42it/s]"
     ]
    },
    {
     "name": "stdout",
     "output_type": "stream",
     "text": [
      "Error at index The White Knight: list index out of range\n"
     ]
    },
    {
     "name": "stderr",
     "output_type": "stream",
     "text": [
      "1324it [14:18,  1.92it/s]"
     ]
    },
    {
     "name": "stdout",
     "output_type": "stream",
     "text": [
      "Error at index Can't Stop Dancin': list index out of range\n"
     ]
    },
    {
     "name": "stderr",
     "output_type": "stream",
     "text": [
      "1327it [14:20,  1.85it/s]"
     ]
    },
    {
     "name": "stdout",
     "output_type": "stream",
     "text": [
      "Error at index My Sweet Lady: list index out of range\n"
     ]
    },
    {
     "name": "stderr",
     "output_type": "stream",
     "text": [
      "1339it [14:29,  1.67it/s]"
     ]
    },
    {
     "name": "stdout",
     "output_type": "stream",
     "text": [
      "Error at index D'yer Mak'er: list index out of range\n"
     ]
    },
    {
     "name": "stderr",
     "output_type": "stream",
     "text": [
      "1344it [14:32,  1.78it/s]"
     ]
    },
    {
     "name": "stdout",
     "output_type": "stream",
     "text": [
      "Error at index Burning Bridges: list index out of range\n"
     ]
    },
    {
     "name": "stderr",
     "output_type": "stream",
     "text": [
      "1357it [14:40,  1.80it/s]"
     ]
    },
    {
     "name": "stdout",
     "output_type": "stream",
     "text": [
      "Error at index (Do The) Push And Pull Part I: list index out of range\n"
     ]
    },
    {
     "name": "stderr",
     "output_type": "stream",
     "text": [
      "1359it [14:41,  1.94it/s]"
     ]
    },
    {
     "name": "stdout",
     "output_type": "stream",
     "text": [
      "Error at index Don't Ask Me Why: list index out of range\n"
     ]
    },
    {
     "name": "stderr",
     "output_type": "stream",
     "text": [
      "1365it [14:45,  1.84it/s]"
     ]
    },
    {
     "name": "stdout",
     "output_type": "stream",
     "text": [
      "Error at index Get On The Good Foot-Part 1: list index out of range\n"
     ]
    },
    {
     "name": "stderr",
     "output_type": "stream",
     "text": [
      "1368it [14:47,  1.83it/s]"
     ]
    },
    {
     "name": "stdout",
     "output_type": "stream",
     "text": [
      "Error at index Baby Let Me Take You (In My Arms): list index out of range\n"
     ]
    },
    {
     "name": "stderr",
     "output_type": "stream",
     "text": [
      "1383it [14:56,  1.86it/s]"
     ]
    },
    {
     "name": "stdout",
     "output_type": "stream",
     "text": [
      "Error at index I Really Don't Want To Know/There Goes My Everything: list index out of range\n"
     ]
    },
    {
     "name": "stderr",
     "output_type": "stream",
     "text": [
      "1387it [14:59,  1.63it/s]"
     ]
    },
    {
     "name": "stdout",
     "output_type": "stream",
     "text": [
      "Error at index I've Been Lonely For So Long: list index out of range\n"
     ]
    },
    {
     "name": "stderr",
     "output_type": "stream",
     "text": [
      "1401it [15:08,  1.63it/s]"
     ]
    },
    {
     "name": "stdout",
     "output_type": "stream",
     "text": [
      "Error at index I'm Alive: list index out of range\n"
     ]
    },
    {
     "name": "stderr",
     "output_type": "stream",
     "text": [
      "1404it [15:10,  1.77it/s]"
     ]
    },
    {
     "name": "stdout",
     "output_type": "stream",
     "text": [
      "Error at index Make A Little Magic: list index out of range\n"
     ]
    },
    {
     "name": "stderr",
     "output_type": "stream",
     "text": [
      "1406it [15:11,  1.78it/s]"
     ]
    },
    {
     "name": "stdout",
     "output_type": "stream",
     "text": [
      "Error at index For The Love Of You (Part 1&2): list index out of range\n"
     ]
    },
    {
     "name": "stderr",
     "output_type": "stream",
     "text": [
      "1413it [15:15,  1.86it/s]"
     ]
    },
    {
     "name": "stdout",
     "output_type": "stream",
     "text": [
      "Error at index I'm A Woman: list index out of range\n"
     ]
    },
    {
     "name": "stderr",
     "output_type": "stream",
     "text": [
      "1416it [15:17,  1.87it/s]"
     ]
    },
    {
     "name": "stdout",
     "output_type": "stream",
     "text": [
      "Error at index Feeling Alright: list index out of range\n"
     ]
    },
    {
     "name": "stderr",
     "output_type": "stream",
     "text": [
      "1419it [15:18,  2.14it/s]"
     ]
    },
    {
     "name": "stdout",
     "output_type": "stream",
     "text": [
      "Error at index Earache My Eye: list index out of range\n"
     ]
    },
    {
     "name": "stderr",
     "output_type": "stream",
     "text": [
      "1426it [15:22,  2.14it/s]"
     ]
    },
    {
     "name": "stdout",
     "output_type": "stream",
     "text": [
      "Error at index You're The Love: list index out of range\n"
     ]
    },
    {
     "name": "stderr",
     "output_type": "stream",
     "text": [
      "1442it [15:33,  1.50it/s]"
     ]
    },
    {
     "name": "stdout",
     "output_type": "stream",
     "text": [
      "Error at index I Am Love (Parts I & II): list index out of range\n"
     ]
    },
    {
     "name": "stderr",
     "output_type": "stream",
     "text": [
      "1444it [15:34,  1.71it/s]"
     ]
    },
    {
     "name": "stdout",
     "output_type": "stream",
     "text": [
      "Error at index Oh! Darling: list index out of range\n"
     ]
    },
    {
     "name": "stderr",
     "output_type": "stream",
     "text": [
      "1446it [15:36,  1.44it/s]"
     ]
    },
    {
     "name": "stdout",
     "output_type": "stream",
     "text": [
      "Error at index Ain't Nothing Like The Real Thing: list index out of range\n"
     ]
    },
    {
     "name": "stderr",
     "output_type": "stream",
     "text": [
      "1452it [15:40,  1.64it/s]"
     ]
    },
    {
     "name": "stdout",
     "output_type": "stream",
     "text": [
      "Error at index To The Door Of The Sun (Alle Porte Del Sole): list index out of range\n"
     ]
    },
    {
     "name": "stderr",
     "output_type": "stream",
     "text": [
      "1457it [15:43,  1.77it/s]"
     ]
    },
    {
     "name": "stdout",
     "output_type": "stream",
     "text": [
      "Error at index Give It What You Got/Peace Pipe: list index out of range\n"
     ]
    },
    {
     "name": "stderr",
     "output_type": "stream",
     "text": [
      "1459it [15:44,  1.88it/s]"
     ]
    },
    {
     "name": "stdout",
     "output_type": "stream",
     "text": [
      "Error at index Every Day Of My Life: list index out of range\n"
     ]
    },
    {
     "name": "stderr",
     "output_type": "stream",
     "text": [
      "1462it [15:46,  2.04it/s]"
     ]
    },
    {
     "name": "stdout",
     "output_type": "stream",
     "text": [
      "Error at index Steamroller Blues/Fool: list index out of range\n"
     ]
    },
    {
     "name": "stderr",
     "output_type": "stream",
     "text": [
      "1465it [15:47,  1.86it/s]"
     ]
    },
    {
     "name": "stdout",
     "output_type": "stream",
     "text": [
      "Error at index I'm In Love: list index out of range\n"
     ]
    },
    {
     "name": "stderr",
     "output_type": "stream",
     "text": [
      "\r",
      "1466it [15:48,  2.05it/s]"
     ]
    },
    {
     "name": "stdout",
     "output_type": "stream",
     "text": [
      "Error at index When I Fall In Love/Are You Lonesome Tonight: list index out of range\n"
     ]
    },
    {
     "name": "stderr",
     "output_type": "stream",
     "text": [
      "\r",
      "1467it [15:48,  2.05it/s]"
     ]
    },
    {
     "name": "stdout",
     "output_type": "stream",
     "text": [
      "Error at index Don't Want To Live Without It: list index out of range\n"
     ]
    },
    {
     "name": "stderr",
     "output_type": "stream",
     "text": [
      "1478it [15:55,  1.83it/s]"
     ]
    },
    {
     "name": "stdout",
     "output_type": "stream",
     "text": [
      "Error at index I'm Not My Brothers Keeper: list index out of range\n"
     ]
    },
    {
     "name": "stderr",
     "output_type": "stream",
     "text": [
      "1480it [15:56,  1.93it/s]"
     ]
    },
    {
     "name": "stdout",
     "output_type": "stream",
     "text": [
      "Error at index Disco Lucy (i Love Lucy Theme): list index out of range\n"
     ]
    },
    {
     "name": "stderr",
     "output_type": "stream",
     "text": [
      "1485it [15:59,  1.90it/s]"
     ]
    },
    {
     "name": "stdout",
     "output_type": "stream",
     "text": [
      "Error at index Stay/The Load-Out: list index out of range\n"
     ]
    },
    {
     "name": "stderr",
     "output_type": "stream",
     "text": [
      "1492it [16:04,  1.52it/s]"
     ]
    },
    {
     "name": "stdout",
     "output_type": "stream",
     "text": [
      "Error at index One Tin Soldier, The Legend of Billy Jack: list index out of range\n"
     ]
    },
    {
     "name": "stderr",
     "output_type": "stream",
     "text": [
      "1497it [16:07,  1.67it/s]"
     ]
    },
    {
     "name": "stdout",
     "output_type": "stream",
     "text": [
      "Error at index Why Not Me: list index out of range\n"
     ]
    },
    {
     "name": "stderr",
     "output_type": "stream",
     "text": [
      "1499it [16:08,  1.78it/s]"
     ]
    },
    {
     "name": "stdout",
     "output_type": "stream",
     "text": [
      "Error at index Basketball Jones Featuring Tyrone Shoelaces: list index out of range\n"
     ]
    },
    {
     "name": "stderr",
     "output_type": "stream",
     "text": [
      "1500it [16:09,  1.55it/s]\n"
     ]
    }
   ],
   "source": [
    "import pandas as pd\n",
    "import numpy as np\n",
    "\n",
    "# initiating empty dictionary\n",
    "data_seventies = {}\n",
    "\n",
    "data_seventies['date'] = np.array([])\n",
    "data_seventies['song, artist'] = np.array([])\n",
    "data_seventies['song'] = np.array([])\n",
    "data_seventies['artist'] = np.array([])\n",
    "data_seventies['danceability'] = np.array([])\n",
    "data_seventies['energy'] = np.array([])\n",
    "data_seventies['key'] = np.array([])\n",
    "data_seventies['loudness'] = np.array([])\n",
    "data_seventies['mode'] = np.array([])\n",
    "data_seventies['speechiness'] = np.array([])\n",
    "data_seventies['acousticness'] = np.array([])\n",
    "data_seventies['instrumentalness'] = np.array([])\n",
    "data_seventies['liveness'] = np.array([])\n",
    "data_seventies['valence'] = np.array([])\n",
    "data_seventies['tempo'] = np.array([])\n",
    "data_seventies['duration_ms'] = np.array([])\n",
    "\n",
    "\n",
    "# Finding song features and appending them to the dictionary. Key: Feature. Value: Value of Features \n",
    "for index, row in tqdm(billboard_song_rankings_seventies.iterrows()):\n",
    "    try:\n",
    "        song_features = get_track_features(row['song'], row['artist'])\n",
    "        # Appending danceability feature \n",
    "        data_seventies['danceability'] = np.append(data_seventies['danceability'], song_features[0]['danceability'])\n",
    "        \n",
    "        data_seventies['song, artist'] = np.append(data_seventies['song, artist'], index)\n",
    "        data_seventies['song'] = np.append(data_seventies['song'], row['song'])\n",
    "        data_seventies['artist'] = np.append(data_seventies['artist'], row['artist'])\n",
    "        data_seventies['date'] = np.append(data_seventies['date'], row['date'])\n",
    "        # Appending energy feature \n",
    "        data_seventies['energy'] = np.append(data_seventies['energy'], song_features[0]['energy'])\n",
    "\n",
    "        # Appending key feature \n",
    "        data_seventies['key'] = np.append(data_seventies['key'], song_features[0]['key'])\n",
    "\n",
    "        # Appending loudness feature \n",
    "        data_seventies['loudness'] = np.append(data_seventies['loudness'], song_features[0]['loudness'])\n",
    "\n",
    "        # Appending mode feature \n",
    "        data_seventies['mode'] = np.append(data_seventies['mode'], song_features[0]['mode'])\n",
    "\n",
    "        # Appending speechiness feature \n",
    "        data_seventies['speechiness'] = np.append(data_seventies['speechiness'], song_features[0]['speechiness'])\n",
    "\n",
    "        # Appending acousticness feature \n",
    "        data_seventies['acousticness'] = np.append(data_seventies['acousticness'], song_features[0]['acousticness'])\n",
    "\n",
    "        # Appending instrumentalness feature \n",
    "        data_seventies['instrumentalness'] = np.append(data_seventies['instrumentalness'], song_features[0]['instrumentalness'])\n",
    "\n",
    "        # Appending liveness feature\n",
    "        data_seventies['liveness'] = np.append(data_seventies['liveness'], song_features[0]['liveness'])\n",
    "\n",
    "        # Appending valence feature \n",
    "        data_seventies['valence'] = np.append(data_seventies['valence'], song_features[0]['valence'])\n",
    "\n",
    "        # Appending tempo feature \n",
    "        data_seventies['tempo'] = np.append(data_seventies['tempo'], song_features[0]['tempo'])\n",
    "\n",
    "        # Appending duration_ms feature \n",
    "        data_seventies['duration_ms'] = np.append(data_seventies['duration_ms'], song_features[0]['duration_ms'])\n",
    "        \n",
    "    except (IndexError, TypeError) as e:\n",
    "        print(f\"Error at index {row['song']}: {e}\")\n",
    "        continue  # Skip to the next iteration when an error occurs\n",
    "    \n",
    "seventies_features_df = pd.DataFrame(data_seventies)"
   ]
  },
  {
   "cell_type": "code",
   "execution_count": 400,
   "id": "975ec792",
   "metadata": {
    "scrolled": true
   },
   "outputs": [
    {
     "data": {
      "text/plain": [
       "(1309, 17)"
      ]
     },
     "execution_count": 400,
     "metadata": {},
     "output_type": "execute_result"
    }
   ],
   "source": [
    "dataset_seventies_features_df = seventies_features_df\n",
    "dataset_seventies_features_df = pd.merge(dataset_seventies_features_df, billboard_song_rankings_seventies['popularity_score'], on = \"song, artist\")\n",
    "dataset_seventies_features_df.shape"
   ]
  },
  {
   "cell_type": "code",
   "execution_count": 401,
   "id": "c0cef17a",
   "metadata": {},
   "outputs": [
    {
     "data": {
      "text/html": [
       "<div>\n",
       "<style scoped>\n",
       "    .dataframe tbody tr th:only-of-type {\n",
       "        vertical-align: middle;\n",
       "    }\n",
       "\n",
       "    .dataframe tbody tr th {\n",
       "        vertical-align: top;\n",
       "    }\n",
       "\n",
       "    .dataframe thead th {\n",
       "        text-align: right;\n",
       "    }\n",
       "</style>\n",
       "<table border=\"1\" class=\"dataframe\">\n",
       "  <thead>\n",
       "    <tr style=\"text-align: right;\">\n",
       "      <th></th>\n",
       "      <th>date</th>\n",
       "      <th>song, artist</th>\n",
       "      <th>song</th>\n",
       "      <th>artist</th>\n",
       "      <th>danceability</th>\n",
       "      <th>energy</th>\n",
       "      <th>key</th>\n",
       "      <th>loudness</th>\n",
       "      <th>mode</th>\n",
       "      <th>speechiness</th>\n",
       "      <th>acousticness</th>\n",
       "      <th>instrumentalness</th>\n",
       "      <th>liveness</th>\n",
       "      <th>valence</th>\n",
       "      <th>tempo</th>\n",
       "      <th>duration_ms</th>\n",
       "      <th>popularity_score</th>\n",
       "    </tr>\n",
       "  </thead>\n",
       "  <tbody>\n",
       "    <tr>\n",
       "      <th>0</th>\n",
       "      <td>9/1/71</td>\n",
       "      <td>Knock Three Times, Dawn</td>\n",
       "      <td>Knock Three Times</td>\n",
       "      <td>Dawn</td>\n",
       "      <td>0.774</td>\n",
       "      <td>0.580</td>\n",
       "      <td>1.0</td>\n",
       "      <td>-10.080</td>\n",
       "      <td>1.0</td>\n",
       "      <td>0.0512</td>\n",
       "      <td>0.1580</td>\n",
       "      <td>0.000000</td>\n",
       "      <td>0.0458</td>\n",
       "      <td>0.923</td>\n",
       "      <td>123.127</td>\n",
       "      <td>176704.0</td>\n",
       "      <td>2.511628</td>\n",
       "    </tr>\n",
       "    <tr>\n",
       "      <th>1</th>\n",
       "      <td>9/1/71</td>\n",
       "      <td>One Less Bell To Answer, The 5th Dimension</td>\n",
       "      <td>One Less Bell To Answer</td>\n",
       "      <td>The 5th Dimension</td>\n",
       "      <td>0.398</td>\n",
       "      <td>0.405</td>\n",
       "      <td>11.0</td>\n",
       "      <td>-6.664</td>\n",
       "      <td>0.0</td>\n",
       "      <td>0.0258</td>\n",
       "      <td>0.7370</td>\n",
       "      <td>0.000050</td>\n",
       "      <td>0.1310</td>\n",
       "      <td>0.443</td>\n",
       "      <td>99.694</td>\n",
       "      <td>210760.0</td>\n",
       "      <td>1.800000</td>\n",
       "    </tr>\n",
       "    <tr>\n",
       "      <th>2</th>\n",
       "      <td>9/1/71</td>\n",
       "      <td>Groove Me, King Floyd</td>\n",
       "      <td>Groove Me</td>\n",
       "      <td>King Floyd</td>\n",
       "      <td>0.908</td>\n",
       "      <td>0.421</td>\n",
       "      <td>11.0</td>\n",
       "      <td>-9.382</td>\n",
       "      <td>1.0</td>\n",
       "      <td>0.0648</td>\n",
       "      <td>0.2600</td>\n",
       "      <td>0.000650</td>\n",
       "      <td>0.0805</td>\n",
       "      <td>0.861</td>\n",
       "      <td>102.977</td>\n",
       "      <td>183267.0</td>\n",
       "      <td>1.785714</td>\n",
       "    </tr>\n",
       "    <tr>\n",
       "      <th>3</th>\n",
       "      <td>8/11/80</td>\n",
       "      <td>Lady, Kenny Rogers</td>\n",
       "      <td>Lady</td>\n",
       "      <td>Kenny Rogers</td>\n",
       "      <td>0.362</td>\n",
       "      <td>0.183</td>\n",
       "      <td>3.0</td>\n",
       "      <td>-16.000</td>\n",
       "      <td>0.0</td>\n",
       "      <td>0.0347</td>\n",
       "      <td>0.8610</td>\n",
       "      <td>0.000234</td>\n",
       "      <td>0.0932</td>\n",
       "      <td>0.200</td>\n",
       "      <td>136.646</td>\n",
       "      <td>231867.0</td>\n",
       "      <td>1.724490</td>\n",
       "    </tr>\n",
       "    <tr>\n",
       "      <th>4</th>\n",
       "      <td>8/11/80</td>\n",
       "      <td>Another One Bites The Dust, Queen</td>\n",
       "      <td>Another One Bites The Dust</td>\n",
       "      <td>Queen</td>\n",
       "      <td>0.933</td>\n",
       "      <td>0.528</td>\n",
       "      <td>5.0</td>\n",
       "      <td>-6.472</td>\n",
       "      <td>0.0</td>\n",
       "      <td>0.1620</td>\n",
       "      <td>0.1120</td>\n",
       "      <td>0.329000</td>\n",
       "      <td>0.1630</td>\n",
       "      <td>0.756</td>\n",
       "      <td>109.975</td>\n",
       "      <td>214653.0</td>\n",
       "      <td>1.716738</td>\n",
       "    </tr>\n",
       "    <tr>\n",
       "      <th>...</th>\n",
       "      <td>...</td>\n",
       "      <td>...</td>\n",
       "      <td>...</td>\n",
       "      <td>...</td>\n",
       "      <td>...</td>\n",
       "      <td>...</td>\n",
       "      <td>...</td>\n",
       "      <td>...</td>\n",
       "      <td>...</td>\n",
       "      <td>...</td>\n",
       "      <td>...</td>\n",
       "      <td>...</td>\n",
       "      <td>...</td>\n",
       "      <td>...</td>\n",
       "      <td>...</td>\n",
       "      <td>...</td>\n",
       "      <td>...</td>\n",
       "    </tr>\n",
       "    <tr>\n",
       "      <th>1304</th>\n",
       "      <td>9/9/78</td>\n",
       "      <td>Two Tickets To Paradise, Eddie Money</td>\n",
       "      <td>Two Tickets To Paradise</td>\n",
       "      <td>Eddie Money</td>\n",
       "      <td>0.623</td>\n",
       "      <td>0.680</td>\n",
       "      <td>2.0</td>\n",
       "      <td>-13.255</td>\n",
       "      <td>1.0</td>\n",
       "      <td>0.0282</td>\n",
       "      <td>0.0056</td>\n",
       "      <td>0.000425</td>\n",
       "      <td>0.1480</td>\n",
       "      <td>0.737</td>\n",
       "      <td>129.713</td>\n",
       "      <td>237093.0</td>\n",
       "      <td>0.314607</td>\n",
       "    </tr>\n",
       "    <tr>\n",
       "      <th>1305</th>\n",
       "      <td>8/9/73</td>\n",
       "      <td>How Can I Tell Her, Lobo</td>\n",
       "      <td>How Can I Tell Her</td>\n",
       "      <td>Lobo</td>\n",
       "      <td>0.506</td>\n",
       "      <td>0.279</td>\n",
       "      <td>2.0</td>\n",
       "      <td>-13.048</td>\n",
       "      <td>1.0</td>\n",
       "      <td>0.0249</td>\n",
       "      <td>0.6130</td>\n",
       "      <td>0.006040</td>\n",
       "      <td>0.0764</td>\n",
       "      <td>0.449</td>\n",
       "      <td>81.651</td>\n",
       "      <td>260467.0</td>\n",
       "      <td>0.314410</td>\n",
       "    </tr>\n",
       "    <tr>\n",
       "      <th>1306</th>\n",
       "      <td>9/2/80</td>\n",
       "      <td>When I Wanted You, Barry Manilow</td>\n",
       "      <td>When I Wanted You</td>\n",
       "      <td>Barry Manilow</td>\n",
       "      <td>0.308</td>\n",
       "      <td>0.440</td>\n",
       "      <td>1.0</td>\n",
       "      <td>-6.071</td>\n",
       "      <td>1.0</td>\n",
       "      <td>0.0310</td>\n",
       "      <td>0.7710</td>\n",
       "      <td>0.000000</td>\n",
       "      <td>0.0524</td>\n",
       "      <td>0.353</td>\n",
       "      <td>114.771</td>\n",
       "      <td>215587.0</td>\n",
       "      <td>0.314110</td>\n",
       "    </tr>\n",
       "    <tr>\n",
       "      <th>1307</th>\n",
       "      <td>8/3/75</td>\n",
       "      <td>Harry Truman, Chicago</td>\n",
       "      <td>Harry Truman</td>\n",
       "      <td>Chicago</td>\n",
       "      <td>0.478</td>\n",
       "      <td>0.638</td>\n",
       "      <td>2.0</td>\n",
       "      <td>-8.031</td>\n",
       "      <td>1.0</td>\n",
       "      <td>0.0246</td>\n",
       "      <td>0.0273</td>\n",
       "      <td>0.000527</td>\n",
       "      <td>0.7120</td>\n",
       "      <td>0.641</td>\n",
       "      <td>93.708</td>\n",
       "      <td>183053.0</td>\n",
       "      <td>0.313953</td>\n",
       "    </tr>\n",
       "    <tr>\n",
       "      <th>1308</th>\n",
       "      <td>9/10/71</td>\n",
       "      <td>Two Divided By Love, The Grass Roots</td>\n",
       "      <td>Two Divided By Love</td>\n",
       "      <td>The Grass Roots</td>\n",
       "      <td>0.634</td>\n",
       "      <td>0.746</td>\n",
       "      <td>8.0</td>\n",
       "      <td>-7.754</td>\n",
       "      <td>1.0</td>\n",
       "      <td>0.0309</td>\n",
       "      <td>0.1320</td>\n",
       "      <td>0.000000</td>\n",
       "      <td>0.0944</td>\n",
       "      <td>0.945</td>\n",
       "      <td>123.853</td>\n",
       "      <td>156000.0</td>\n",
       "      <td>0.313472</td>\n",
       "    </tr>\n",
       "  </tbody>\n",
       "</table>\n",
       "<p>1309 rows × 17 columns</p>\n",
       "</div>"
      ],
      "text/plain": [
       "         date                                song, artist  \\\n",
       "0      9/1/71                     Knock Three Times, Dawn   \n",
       "1      9/1/71  One Less Bell To Answer, The 5th Dimension   \n",
       "2      9/1/71                       Groove Me, King Floyd   \n",
       "3     8/11/80                          Lady, Kenny Rogers   \n",
       "4     8/11/80           Another One Bites The Dust, Queen   \n",
       "...       ...                                         ...   \n",
       "1304   9/9/78        Two Tickets To Paradise, Eddie Money   \n",
       "1305   8/9/73                    How Can I Tell Her, Lobo   \n",
       "1306   9/2/80            When I Wanted You, Barry Manilow   \n",
       "1307   8/3/75                       Harry Truman, Chicago   \n",
       "1308  9/10/71        Two Divided By Love, The Grass Roots   \n",
       "\n",
       "                            song             artist  danceability  energy  \\\n",
       "0              Knock Three Times               Dawn         0.774   0.580   \n",
       "1        One Less Bell To Answer  The 5th Dimension         0.398   0.405   \n",
       "2                      Groove Me         King Floyd         0.908   0.421   \n",
       "3                           Lady       Kenny Rogers         0.362   0.183   \n",
       "4     Another One Bites The Dust              Queen         0.933   0.528   \n",
       "...                          ...                ...           ...     ...   \n",
       "1304     Two Tickets To Paradise        Eddie Money         0.623   0.680   \n",
       "1305          How Can I Tell Her               Lobo         0.506   0.279   \n",
       "1306           When I Wanted You      Barry Manilow         0.308   0.440   \n",
       "1307                Harry Truman            Chicago         0.478   0.638   \n",
       "1308         Two Divided By Love    The Grass Roots         0.634   0.746   \n",
       "\n",
       "       key  loudness  mode  speechiness  acousticness  instrumentalness  \\\n",
       "0      1.0   -10.080   1.0       0.0512        0.1580          0.000000   \n",
       "1     11.0    -6.664   0.0       0.0258        0.7370          0.000050   \n",
       "2     11.0    -9.382   1.0       0.0648        0.2600          0.000650   \n",
       "3      3.0   -16.000   0.0       0.0347        0.8610          0.000234   \n",
       "4      5.0    -6.472   0.0       0.1620        0.1120          0.329000   \n",
       "...    ...       ...   ...          ...           ...               ...   \n",
       "1304   2.0   -13.255   1.0       0.0282        0.0056          0.000425   \n",
       "1305   2.0   -13.048   1.0       0.0249        0.6130          0.006040   \n",
       "1306   1.0    -6.071   1.0       0.0310        0.7710          0.000000   \n",
       "1307   2.0    -8.031   1.0       0.0246        0.0273          0.000527   \n",
       "1308   8.0    -7.754   1.0       0.0309        0.1320          0.000000   \n",
       "\n",
       "      liveness  valence    tempo  duration_ms  popularity_score  \n",
       "0       0.0458    0.923  123.127     176704.0          2.511628  \n",
       "1       0.1310    0.443   99.694     210760.0          1.800000  \n",
       "2       0.0805    0.861  102.977     183267.0          1.785714  \n",
       "3       0.0932    0.200  136.646     231867.0          1.724490  \n",
       "4       0.1630    0.756  109.975     214653.0          1.716738  \n",
       "...        ...      ...      ...          ...               ...  \n",
       "1304    0.1480    0.737  129.713     237093.0          0.314607  \n",
       "1305    0.0764    0.449   81.651     260467.0          0.314410  \n",
       "1306    0.0524    0.353  114.771     215587.0          0.314110  \n",
       "1307    0.7120    0.641   93.708     183053.0          0.313953  \n",
       "1308    0.0944    0.945  123.853     156000.0          0.313472  \n",
       "\n",
       "[1309 rows x 17 columns]"
      ]
     },
     "execution_count": 401,
     "metadata": {},
     "output_type": "execute_result"
    }
   ],
   "source": [
    "dataset_seventies_features_df"
   ]
  },
  {
   "cell_type": "code",
   "execution_count": 402,
   "id": "fc10331a",
   "metadata": {},
   "outputs": [],
   "source": [
    "dataset_seventies_features_df.to_csv('1971-1980_scraped.csv', index=False)"
   ]
  },
  {
   "cell_type": "code",
   "execution_count": 350,
   "id": "964f97b3",
   "metadata": {},
   "outputs": [],
   "source": [
    "import pandas as pd\n",
    "from collections import defaultdict\n",
    "from tqdm import tqdm\n",
    "import re\n",
    "\n",
    "# read the file as a pandas dataframe\n",
    "df_new = pd.read_csv('/Users/ryanye/Documents/Yale-NUS/DIS Copenhagen/Modules/Big Data/1981-1990.csv')\n",
    "# removing content after words \"featuring,\" \"feat.,\" \"ft.,\" and \"&\" in columns artist and song (case-insensitive)\n",
    "df_new['artist'] = df_new['artist'].str.replace(r'\\s*(featuring|featuring:|feat\\.|ft\\.|&)\\s.*$', \"\", regex=True, flags=re.IGNORECASE)\n",
    "\n",
    "# merging columns with a comme-separation\n",
    "merged_column = df_new['song'] + ', ' + df_new['artist']\n",
    "\n",
    "if not \"song, artist\" in df_new.columns:\n",
    "    # insert the new column into the dataframe\n",
    "    df_new.insert(4, 'song, artist', merged_column)\n",
    "\n",
    "# grouping dataframe by unique song, artist pairings and retaining only the rows with maximum values\n",
    "weeks_on_board = df_new.groupby([\"song, artist\"]).max()\n",
    "# grouping dataframe by unique song, artist pairings and calculating the aggregate mean values\n",
    "mean_rank = df_new.groupby([\"song, artist\"]).mean()\n",
    "# merging the 2 previous dataframes into a single dataframe, merging on \"song, artist\"\n",
    "merge_df_no_duplicates = pd.merge(weeks_on_board, mean_rank, on = \"song, artist\")\n",
    "# dropping the unecessary columns\n",
    "billboard_song_rankings = merge_df_no_duplicates.drop(columns=['peak-rank_y', 'weeks-on-board_y', \n",
    "                                                               'rank_x', 'last-week_x', 'peak-rank_x',\n",
    "                                                               'last-week_y'])\n",
    "billboard_song_rankings.rename(columns={'weeks-on-board_x': 'weeks_on_board', 'rank_y': 'mean_rank'}, inplace=True)\n",
    "# Calculating the popularity scores\n",
    "billboard_song_rankings['popularity_score'] = (1 / billboard_song_rankings[\"mean_rank\"]) * billboard_song_rankings[\"weeks_on_board\"]\n",
    "# Filtering only the top 1000 most popular songs per decade (so as not to exceed the rate-limit in the Spotify\n",
    "# API calls)\n",
    "billboard_song_rankings_eighties = billboard_song_rankings.nlargest(1500, 'popularity_score')\n",
    "billboard_song_rankings_eighties['song_artist'] = billboard_song_rankings_eighties['song'] + ', ' + billboard_song_rankings_eighties['artist']"
   ]
  },
  {
   "cell_type": "code",
   "execution_count": 351,
   "id": "b8179321",
   "metadata": {},
   "outputs": [
    {
     "data": {
      "text/html": [
       "<div>\n",
       "<style scoped>\n",
       "    .dataframe tbody tr th:only-of-type {\n",
       "        vertical-align: middle;\n",
       "    }\n",
       "\n",
       "    .dataframe tbody tr th {\n",
       "        vertical-align: top;\n",
       "    }\n",
       "\n",
       "    .dataframe thead th {\n",
       "        text-align: right;\n",
       "    }\n",
       "</style>\n",
       "<table border=\"1\" class=\"dataframe\">\n",
       "  <thead>\n",
       "    <tr style=\"text-align: right;\">\n",
       "      <th></th>\n",
       "      <th>date</th>\n",
       "      <th>song</th>\n",
       "      <th>artist</th>\n",
       "      <th>weeks_on_board</th>\n",
       "      <th>mean_rank</th>\n",
       "      <th>popularity_score</th>\n",
       "      <th>song_artist</th>\n",
       "    </tr>\n",
       "    <tr>\n",
       "      <th>song, artist</th>\n",
       "      <th></th>\n",
       "      <th></th>\n",
       "      <th></th>\n",
       "      <th></th>\n",
       "      <th></th>\n",
       "      <th></th>\n",
       "      <th></th>\n",
       "    </tr>\n",
       "  </thead>\n",
       "  <tbody>\n",
       "    <tr>\n",
       "      <th>Every Breath You Take, The Police</th>\n",
       "      <td>9/7/83</td>\n",
       "      <td>Every Breath You Take</td>\n",
       "      <td>The Police</td>\n",
       "      <td>22</td>\n",
       "      <td>15.772727</td>\n",
       "      <td>1.394813</td>\n",
       "      <td>Every Breath You Take, The Police</td>\n",
       "    </tr>\n",
       "    <tr>\n",
       "      <th>Physical, Olivia Newton-John</th>\n",
       "      <td>9/1/82</td>\n",
       "      <td>Physical</td>\n",
       "      <td>Olivia Newton-John</td>\n",
       "      <td>26</td>\n",
       "      <td>18.961538</td>\n",
       "      <td>1.371197</td>\n",
       "      <td>Physical, Olivia Newton-John</td>\n",
       "    </tr>\n",
       "    <tr>\n",
       "      <th>Waiting For A Girl Like You, Foreigner</th>\n",
       "      <td>9/1/82</td>\n",
       "      <td>Waiting For A Girl Like You</td>\n",
       "      <td>Foreigner</td>\n",
       "      <td>23</td>\n",
       "      <td>18.000000</td>\n",
       "      <td>1.277778</td>\n",
       "      <td>Waiting For A Girl Like You, Foreigner</td>\n",
       "    </tr>\n",
       "    <tr>\n",
       "      <th>Celebration, Kool</th>\n",
       "      <td>9/5/81</td>\n",
       "      <td>Celebration</td>\n",
       "      <td>Kool</td>\n",
       "      <td>30</td>\n",
       "      <td>23.600000</td>\n",
       "      <td>1.271186</td>\n",
       "      <td>Celebration, Kool</td>\n",
       "    </tr>\n",
       "    <tr>\n",
       "      <th>Flashdance...What A Feeling, Irene Cara</th>\n",
       "      <td>9/7/83</td>\n",
       "      <td>Flashdance...What A Feeling</td>\n",
       "      <td>Irene Cara</td>\n",
       "      <td>25</td>\n",
       "      <td>20.000000</td>\n",
       "      <td>1.250000</td>\n",
       "      <td>Flashdance...What A Feeling, Irene Cara</td>\n",
       "    </tr>\n",
       "    <tr>\n",
       "      <th>...</th>\n",
       "      <td>...</td>\n",
       "      <td>...</td>\n",
       "      <td>...</td>\n",
       "      <td>...</td>\n",
       "      <td>...</td>\n",
       "      <td>...</td>\n",
       "      <td>...</td>\n",
       "    </tr>\n",
       "    <tr>\n",
       "      <th>Bop 'til You Drop, Rick Springfield</th>\n",
       "      <td>8/9/84</td>\n",
       "      <td>Bop 'til You Drop</td>\n",
       "      <td>Rick Springfield</td>\n",
       "      <td>15</td>\n",
       "      <td>44.600000</td>\n",
       "      <td>0.336323</td>\n",
       "      <td>Bop 'til You Drop, Rick Springfield</td>\n",
       "    </tr>\n",
       "    <tr>\n",
       "      <th>Girl Can't Help It, Journey</th>\n",
       "      <td>8/11/86</td>\n",
       "      <td>Girl Can't Help It</td>\n",
       "      <td>Journey</td>\n",
       "      <td>14</td>\n",
       "      <td>41.642857</td>\n",
       "      <td>0.336192</td>\n",
       "      <td>Girl Can't Help It, Journey</td>\n",
       "    </tr>\n",
       "    <tr>\n",
       "      <th>You Can't Deny It, Lisa Stansfield</th>\n",
       "      <td>9/6/90</td>\n",
       "      <td>You Can't Deny It</td>\n",
       "      <td>Lisa Stansfield</td>\n",
       "      <td>14</td>\n",
       "      <td>41.642857</td>\n",
       "      <td>0.336192</td>\n",
       "      <td>You Can't Deny It, Lisa Stansfield</td>\n",
       "    </tr>\n",
       "    <tr>\n",
       "      <th>The Love In Your Eyes, Eddie Money</th>\n",
       "      <td>8/4/89</td>\n",
       "      <td>The Love In Your Eyes</td>\n",
       "      <td>Eddie Money</td>\n",
       "      <td>18</td>\n",
       "      <td>53.555556</td>\n",
       "      <td>0.336100</td>\n",
       "      <td>The Love In Your Eyes, Eddie Money</td>\n",
       "    </tr>\n",
       "    <tr>\n",
       "      <th>I Can't Wait, Stevie Nicks</th>\n",
       "      <td>8/3/86</td>\n",
       "      <td>I Can't Wait</td>\n",
       "      <td>Stevie Nicks</td>\n",
       "      <td>13</td>\n",
       "      <td>38.692308</td>\n",
       "      <td>0.335984</td>\n",
       "      <td>I Can't Wait, Stevie Nicks</td>\n",
       "    </tr>\n",
       "  </tbody>\n",
       "</table>\n",
       "<p>1500 rows × 7 columns</p>\n",
       "</div>"
      ],
      "text/plain": [
       "                                            date                         song  \\\n",
       "song, artist                                                                    \n",
       "Every Breath You Take, The Police         9/7/83        Every Breath You Take   \n",
       "Physical, Olivia Newton-John              9/1/82                     Physical   \n",
       "Waiting For A Girl Like You, Foreigner    9/1/82  Waiting For A Girl Like You   \n",
       "Celebration, Kool                         9/5/81                  Celebration   \n",
       "Flashdance...What A Feeling, Irene Cara   9/7/83  Flashdance...What A Feeling   \n",
       "...                                          ...                          ...   \n",
       "Bop 'til You Drop, Rick Springfield       8/9/84            Bop 'til You Drop   \n",
       "Girl Can't Help It, Journey              8/11/86           Girl Can't Help It   \n",
       "You Can't Deny It, Lisa Stansfield        9/6/90            You Can't Deny It   \n",
       "The Love In Your Eyes, Eddie Money        8/4/89        The Love In Your Eyes   \n",
       "I Can't Wait, Stevie Nicks                8/3/86                 I Can't Wait   \n",
       "\n",
       "                                                     artist  weeks_on_board  \\\n",
       "song, artist                                                                  \n",
       "Every Breath You Take, The Police                The Police              22   \n",
       "Physical, Olivia Newton-John             Olivia Newton-John              26   \n",
       "Waiting For A Girl Like You, Foreigner            Foreigner              23   \n",
       "Celebration, Kool                                      Kool              30   \n",
       "Flashdance...What A Feeling, Irene Cara          Irene Cara              25   \n",
       "...                                                     ...             ...   \n",
       "Bop 'til You Drop, Rick Springfield        Rick Springfield              15   \n",
       "Girl Can't Help It, Journey                         Journey              14   \n",
       "You Can't Deny It, Lisa Stansfield          Lisa Stansfield              14   \n",
       "The Love In Your Eyes, Eddie Money              Eddie Money              18   \n",
       "I Can't Wait, Stevie Nicks                     Stevie Nicks              13   \n",
       "\n",
       "                                         mean_rank  popularity_score  \\\n",
       "song, artist                                                           \n",
       "Every Breath You Take, The Police        15.772727          1.394813   \n",
       "Physical, Olivia Newton-John             18.961538          1.371197   \n",
       "Waiting For A Girl Like You, Foreigner   18.000000          1.277778   \n",
       "Celebration, Kool                        23.600000          1.271186   \n",
       "Flashdance...What A Feeling, Irene Cara  20.000000          1.250000   \n",
       "...                                            ...               ...   \n",
       "Bop 'til You Drop, Rick Springfield      44.600000          0.336323   \n",
       "Girl Can't Help It, Journey              41.642857          0.336192   \n",
       "You Can't Deny It, Lisa Stansfield       41.642857          0.336192   \n",
       "The Love In Your Eyes, Eddie Money       53.555556          0.336100   \n",
       "I Can't Wait, Stevie Nicks               38.692308          0.335984   \n",
       "\n",
       "                                                                     song_artist  \n",
       "song, artist                                                                      \n",
       "Every Breath You Take, The Police              Every Breath You Take, The Police  \n",
       "Physical, Olivia Newton-John                        Physical, Olivia Newton-John  \n",
       "Waiting For A Girl Like You, Foreigner    Waiting For A Girl Like You, Foreigner  \n",
       "Celebration, Kool                                              Celebration, Kool  \n",
       "Flashdance...What A Feeling, Irene Cara  Flashdance...What A Feeling, Irene Cara  \n",
       "...                                                                          ...  \n",
       "Bop 'til You Drop, Rick Springfield          Bop 'til You Drop, Rick Springfield  \n",
       "Girl Can't Help It, Journey                          Girl Can't Help It, Journey  \n",
       "You Can't Deny It, Lisa Stansfield            You Can't Deny It, Lisa Stansfield  \n",
       "The Love In Your Eyes, Eddie Money            The Love In Your Eyes, Eddie Money  \n",
       "I Can't Wait, Stevie Nicks                            I Can't Wait, Stevie Nicks  \n",
       "\n",
       "[1500 rows x 7 columns]"
      ]
     },
     "execution_count": 351,
     "metadata": {},
     "output_type": "execute_result"
    }
   ],
   "source": [
    "billboard_song_rankings_eighties"
   ]
  },
  {
   "cell_type": "code",
   "execution_count": 316,
   "id": "36dd1817",
   "metadata": {
    "scrolled": true
   },
   "outputs": [
    {
     "name": "stderr",
     "output_type": "stream",
     "text": [
      "11it [00:04,  2.87it/s]"
     ]
    },
    {
     "name": "stdout",
     "output_type": "stream",
     "text": [
      "Error at index King Of Wishful Thinking (From \"Pretty Woman\"): list index out of range\n"
     ]
    },
    {
     "name": "stderr",
     "output_type": "stream",
     "text": [
      "26it [00:09,  3.17it/s]"
     ]
    },
    {
     "name": "stdout",
     "output_type": "stream",
     "text": [
      "Error at index I've Done Everything For You: list index out of range\n"
     ]
    },
    {
     "name": "stderr",
     "output_type": "stream",
     "text": [
      "29it [00:10,  3.27it/s]"
     ]
    },
    {
     "name": "stdout",
     "output_type": "stream",
     "text": [
      "Error at index Don't Mean Nothing: list index out of range\n"
     ]
    },
    {
     "name": "stderr",
     "output_type": "stream",
     "text": [
      "\r",
      "30it [00:10,  3.52it/s]"
     ]
    },
    {
     "name": "stdout",
     "output_type": "stream",
     "text": [
      "Error at index To All The Girls I've Loved Before: list index out of range\n"
     ]
    },
    {
     "name": "stderr",
     "output_type": "stream",
     "text": [
      "33it [00:11,  3.66it/s]"
     ]
    },
    {
     "name": "stdout",
     "output_type": "stream",
     "text": [
      "Error at index Sweet Freedom (Theme From \"Running Scared\"): list index out of range\n"
     ]
    },
    {
     "name": "stderr",
     "output_type": "stream",
     "text": [
      "\r",
      "34it [00:11,  3.84it/s]"
     ]
    },
    {
     "name": "stdout",
     "output_type": "stream",
     "text": [
      "Error at index Don't Be Cruel: list index out of range\n"
     ]
    },
    {
     "name": "stderr",
     "output_type": "stream",
     "text": [
      "41it [00:14,  3.22it/s]"
     ]
    },
    {
     "name": "stdout",
     "output_type": "stream",
     "text": [
      "Error at index Batdance (From \"Batman\"): list index out of range\n"
     ]
    },
    {
     "name": "stderr",
     "output_type": "stream",
     "text": [
      "45it [00:15,  3.88it/s]"
     ]
    },
    {
     "name": "stdout",
     "output_type": "stream",
     "text": [
      "Error at index I Can't Stand It: list index out of range\n",
      "Error at index Me So Horny: list index out of range\n"
     ]
    },
    {
     "name": "stderr",
     "output_type": "stream",
     "text": [
      "55it [00:19,  3.16it/s]"
     ]
    },
    {
     "name": "stdout",
     "output_type": "stream",
     "text": [
      "Error at index Tarzan Boy (From \"Teenage Mutant Ninja Turtles III\"): list index out of range\n"
     ]
    },
    {
     "name": "stderr",
     "output_type": "stream",
     "text": [
      "57it [00:19,  3.54it/s]"
     ]
    },
    {
     "name": "stdout",
     "output_type": "stream",
     "text": [
      "Error at index Thinking Of You: list index out of range\n"
     ]
    },
    {
     "name": "stderr",
     "output_type": "stream",
     "text": [
      "61it [00:21,  3.01it/s]"
     ]
    },
    {
     "name": "stdout",
     "output_type": "stream",
     "text": [
      "Error at index Can't Stay Away From You: list index out of range\n"
     ]
    },
    {
     "name": "stderr",
     "output_type": "stream",
     "text": [
      "90it [00:32,  3.00it/s]"
     ]
    },
    {
     "name": "stdout",
     "output_type": "stream",
     "text": [
      "Error at index Who's Johnny (\"Short Circuit\" Theme): list index out of range\n"
     ]
    },
    {
     "name": "stderr",
     "output_type": "stream",
     "text": [
      "124it [00:44,  3.09it/s]"
     ]
    },
    {
     "name": "stdout",
     "output_type": "stream",
     "text": [
      "Error at index The Breakup Song (They Don't Write 'Em): list index out of range\n"
     ]
    },
    {
     "name": "stderr",
     "output_type": "stream",
     "text": [
      "141it [00:50,  3.41it/s]"
     ]
    },
    {
     "name": "stdout",
     "output_type": "stream",
     "text": [
      "Error at index Don't Be Cruel: list index out of range\n",
      "Error at index Girls Nite Out: list index out of range\n"
     ]
    },
    {
     "name": "stderr",
     "output_type": "stream",
     "text": [
      "144it [00:51,  3.39it/s]"
     ]
    },
    {
     "name": "stdout",
     "output_type": "stream",
     "text": [
      "Error at index Love Touch (Theme From \"Legal Eagles\"): list index out of range\n"
     ]
    },
    {
     "name": "stderr",
     "output_type": "stream",
     "text": [
      "151it [00:53,  3.44it/s]"
     ]
    },
    {
     "name": "stdout",
     "output_type": "stream",
     "text": [
      "Error at index Silent Running (On Dangerous Ground): list index out of range\n"
     ]
    },
    {
     "name": "stderr",
     "output_type": "stream",
     "text": [
      "153it [00:54,  3.40it/s]"
     ]
    },
    {
     "name": "stdout",
     "output_type": "stream",
     "text": [
      "Error at index Don't Stop Believin': list index out of range\n"
     ]
    },
    {
     "name": "stderr",
     "output_type": "stream",
     "text": [
      "159it [00:56,  3.25it/s]"
     ]
    },
    {
     "name": "stdout",
     "output_type": "stream",
     "text": [
      "Error at index Almost Paradise...Love Theme From Footloose: list index out of range\n"
     ]
    },
    {
     "name": "stderr",
     "output_type": "stream",
     "text": [
      "184it [01:06,  2.49it/s]"
     ]
    },
    {
     "name": "stdout",
     "output_type": "stream",
     "text": [
      "Error at index After All (Love Theme From \"Chances Are\"): list index out of range\n"
     ]
    },
    {
     "name": "stderr",
     "output_type": "stream",
     "text": [
      "194it [01:09,  2.92it/s]"
     ]
    },
    {
     "name": "stdout",
     "output_type": "stream",
     "text": [
      "Error at index In Your Eyes (Theme From \"Say Anything\"): list index out of range\n"
     ]
    },
    {
     "name": "stderr",
     "output_type": "stream",
     "text": [
      "197it [01:10,  3.17it/s]"
     ]
    },
    {
     "name": "stdout",
     "output_type": "stream",
     "text": [
      "Error at index I'm Still Standing: list index out of range\n"
     ]
    },
    {
     "name": "stderr",
     "output_type": "stream",
     "text": [
      "199it [01:11,  3.29it/s]"
     ]
    },
    {
     "name": "stdout",
     "output_type": "stream",
     "text": [
      "Error at index I've Been In Love Before: list index out of range\n"
     ]
    },
    {
     "name": "stderr",
     "output_type": "stream",
     "text": [
      "205it [01:13,  3.63it/s]"
     ]
    },
    {
     "name": "stdout",
     "output_type": "stream",
     "text": [
      "Error at index Don't You Know What The Night Can Do?: list index out of range\n"
     ]
    },
    {
     "name": "stderr",
     "output_type": "stream",
     "text": [
      "228it [01:20,  4.34it/s]"
     ]
    },
    {
     "name": "stdout",
     "output_type": "stream",
     "text": [
      "Error at index I'll Be Over You: list index out of range\n"
     ]
    },
    {
     "name": "stderr",
     "output_type": "stream",
     "text": [
      "238it [01:23,  3.41it/s]"
     ]
    },
    {
     "name": "stdout",
     "output_type": "stream",
     "text": [
      "Error at index I'll Tumble 4 Ya: list index out of range\n"
     ]
    },
    {
     "name": "stderr",
     "output_type": "stream",
     "text": [
      "248it [01:26,  3.62it/s]"
     ]
    },
    {
     "name": "stdout",
     "output_type": "stream",
     "text": [
      "Error at index Ain't Even Done With The Night: list index out of range\n"
     ]
    },
    {
     "name": "stderr",
     "output_type": "stream",
     "text": [
      "254it [01:28,  3.80it/s]"
     ]
    },
    {
     "name": "stdout",
     "output_type": "stream",
     "text": [
      "Error at index Don't Stand So Close To Me: list index out of range\n"
     ]
    },
    {
     "name": "stderr",
     "output_type": "stream",
     "text": [
      "258it [01:29,  3.83it/s]"
     ]
    },
    {
     "name": "stdout",
     "output_type": "stream",
     "text": [
      "Error at index I'm On Fire: list index out of range\n"
     ]
    },
    {
     "name": "stderr",
     "output_type": "stream",
     "text": [
      "\r",
      "259it [01:29,  3.81it/s]"
     ]
    },
    {
     "name": "stdout",
     "output_type": "stream",
     "text": [
      "Error at index C'mon And Get My Love: list index out of range\n"
     ]
    },
    {
     "name": "stderr",
     "output_type": "stream",
     "text": [
      "262it [01:30,  3.97it/s]"
     ]
    },
    {
     "name": "stdout",
     "output_type": "stream",
     "text": [
      "Error at index Cross My Broken Heart (From \"Beverly Hills Cop II\"): list index out of range\n"
     ]
    },
    {
     "name": "stderr",
     "output_type": "stream",
     "text": [
      "270it [01:33,  3.34it/s]"
     ]
    },
    {
     "name": "stdout",
     "output_type": "stream",
     "text": [
      "Error at index Super Freak (Part I): list index out of range\n"
     ]
    },
    {
     "name": "stderr",
     "output_type": "stream",
     "text": [
      "272it [01:33,  3.10it/s]"
     ]
    },
    {
     "name": "stdout",
     "output_type": "stream",
     "text": [
      "Error at index Nobody's Fool (Theme From \"Caddyshack II\"): list index out of range\n"
     ]
    },
    {
     "name": "stderr",
     "output_type": "stream",
     "text": [
      "302it [01:45,  1.99it/s]"
     ]
    },
    {
     "name": "stdout",
     "output_type": "stream",
     "text": [
      "Error at index Right On Track: list index out of range\n",
      "Error at index Whole Wide World (From \"True Love\"): list index out of range\n"
     ]
    },
    {
     "name": "stderr",
     "output_type": "stream",
     "text": [
      "\r",
      "303it [01:45,  2.26it/s]"
     ]
    },
    {
     "name": "stdout",
     "output_type": "stream",
     "text": [
      "Error at index Don't Shut Me Out: list index out of range\n"
     ]
    },
    {
     "name": "stderr",
     "output_type": "stream",
     "text": [
      "340it [01:57,  3.53it/s]"
     ]
    },
    {
     "name": "stdout",
     "output_type": "stream",
     "text": [
      "Error at index Parents Just Don't Understand: list index out of range\n"
     ]
    },
    {
     "name": "stderr",
     "output_type": "stream",
     "text": [
      "346it [01:59,  3.08it/s]"
     ]
    },
    {
     "name": "stdout",
     "output_type": "stream",
     "text": [
      "Error at index Invincible (Theme From The Legend Of Billie Jean): list index out of range\n"
     ]
    },
    {
     "name": "stderr",
     "output_type": "stream",
     "text": [
      "357it [02:04,  2.43it/s]"
     ]
    },
    {
     "name": "stdout",
     "output_type": "stream",
     "text": [
      "Error at index You're A Friend Of Mine: list index out of range\n"
     ]
    },
    {
     "name": "stderr",
     "output_type": "stream",
     "text": [
      "365it [02:07,  3.10it/s]"
     ]
    },
    {
     "name": "stdout",
     "output_type": "stream",
     "text": [
      "Error at index I'll Be Alright Without You: list index out of range\n",
      "Error at index Heaven Help Me: list index out of range\n"
     ]
    },
    {
     "name": "stderr",
     "output_type": "stream",
     "text": [
      "373it [02:09,  3.62it/s]"
     ]
    },
    {
     "name": "stdout",
     "output_type": "stream",
     "text": [
      "Error at index Lights Out: list index out of range\n",
      "Error at index Another Lover: list index out of range\n"
     ]
    },
    {
     "name": "stderr",
     "output_type": "stream",
     "text": [
      "415it [02:25,  3.24it/s]"
     ]
    },
    {
     "name": "stdout",
     "output_type": "stream",
     "text": [
      "Error at index You're Only Human (Second Wind): list index out of range\n"
     ]
    },
    {
     "name": "stderr",
     "output_type": "stream",
     "text": [
      "426it [02:29,  2.97it/s]"
     ]
    },
    {
     "name": "stdout",
     "output_type": "stream",
     "text": [
      "Error at index Surrender To Me (From \"Tequila Sunrise\"): list index out of range\n"
     ]
    },
    {
     "name": "stderr",
     "output_type": "stream",
     "text": [
      "430it [02:30,  3.13it/s]"
     ]
    },
    {
     "name": "stdout",
     "output_type": "stream",
     "text": [
      "Error at index I'd Still Say Yes: list index out of range\n"
     ]
    },
    {
     "name": "stderr",
     "output_type": "stream",
     "text": [
      "432it [02:30,  3.92it/s]"
     ]
    },
    {
     "name": "stdout",
     "output_type": "stream",
     "text": [
      "Error at index Don't Make Me Over: list index out of range\n"
     ]
    },
    {
     "name": "stderr",
     "output_type": "stream",
     "text": [
      "455it [02:38,  3.84it/s]"
     ]
    },
    {
     "name": "stdout",
     "output_type": "stream",
     "text": [
      "Error at index This Old Heart Of Mine: list index out of range\n"
     ]
    },
    {
     "name": "stderr",
     "output_type": "stream",
     "text": [
      "481it [02:46,  3.96it/s]"
     ]
    },
    {
     "name": "stdout",
     "output_type": "stream",
     "text": [
      "Error at index Funkytown: list index out of range\n"
     ]
    },
    {
     "name": "stderr",
     "output_type": "stream",
     "text": [
      "489it [02:48,  4.14it/s]"
     ]
    },
    {
     "name": "stdout",
     "output_type": "stream",
     "text": [
      "Error at index We're Ready: list index out of range\n"
     ]
    },
    {
     "name": "stderr",
     "output_type": "stream",
     "text": [
      "496it [02:50,  4.20it/s]"
     ]
    },
    {
     "name": "stdout",
     "output_type": "stream",
     "text": [
      "Error at index Didn't I (Blow Your Mind): list index out of range\n"
     ]
    },
    {
     "name": "stderr",
     "output_type": "stream",
     "text": [
      "501it [02:52,  3.66it/s]"
     ]
    },
    {
     "name": "stdout",
     "output_type": "stream",
     "text": [
      "Error at index Iko Iko (From \"Rain Man\"): list index out of range\n"
     ]
    },
    {
     "name": "stderr",
     "output_type": "stream",
     "text": [
      "507it [02:53,  4.16it/s]"
     ]
    },
    {
     "name": "stdout",
     "output_type": "stream",
     "text": [
      "Error at index Put A Little Love In Your Heart: list index out of range\n"
     ]
    },
    {
     "name": "stderr",
     "output_type": "stream",
     "text": [
      "509it [02:54,  4.63it/s]"
     ]
    },
    {
     "name": "stdout",
     "output_type": "stream",
     "text": [
      "Error at index Just Because: list index out of range\n"
     ]
    },
    {
     "name": "stderr",
     "output_type": "stream",
     "text": [
      "516it [02:56,  4.46it/s]"
     ]
    },
    {
     "name": "stdout",
     "output_type": "stream",
     "text": [
      "Error at index Sweet Baby: list index out of range\n"
     ]
    },
    {
     "name": "stderr",
     "output_type": "stream",
     "text": [
      "519it [02:56,  4.66it/s]"
     ]
    },
    {
     "name": "stdout",
     "output_type": "stream",
     "text": [
      "Error at index You're Not Alone: list index out of range\n"
     ]
    },
    {
     "name": "stderr",
     "output_type": "stream",
     "text": [
      "521it [02:57,  4.64it/s]"
     ]
    },
    {
     "name": "stdout",
     "output_type": "stream",
     "text": [
      "Error at index I've Got A Rock N' Roll Heart: list index out of range\n"
     ]
    },
    {
     "name": "stderr",
     "output_type": "stream",
     "text": [
      "529it [02:59,  3.96it/s]"
     ]
    },
    {
     "name": "stdout",
     "output_type": "stream",
     "text": [
      "Error at index You Know I Love You ... Don't You?: list index out of range\n"
     ]
    },
    {
     "name": "stderr",
     "output_type": "stream",
     "text": [
      "545it [03:03,  4.43it/s]"
     ]
    },
    {
     "name": "stdout",
     "output_type": "stream",
     "text": [
      "Error at index If She Would Have Been Faithful. . .: list index out of range\n",
      "Error at index Don't Come Around Here No More: list index out of range\n"
     ]
    },
    {
     "name": "stderr",
     "output_type": "stream",
     "text": [
      "573it [03:11,  4.33it/s]"
     ]
    },
    {
     "name": "stdout",
     "output_type": "stream",
     "text": [
      "Error at index Yah Mo B There: list index out of range\n"
     ]
    },
    {
     "name": "stderr",
     "output_type": "stream",
     "text": [
      "\r",
      "574it [03:11,  4.47it/s]"
     ]
    },
    {
     "name": "stdout",
     "output_type": "stream",
     "text": [
      "Error at index Don't Tell Me Lies: list index out of range\n"
     ]
    },
    {
     "name": "stderr",
     "output_type": "stream",
     "text": [
      "576it [03:12,  4.47it/s]"
     ]
    },
    {
     "name": "stdout",
     "output_type": "stream",
     "text": [
      "Error at index I'll Wait: list index out of range\n"
     ]
    },
    {
     "name": "stderr",
     "output_type": "stream",
     "text": [
      "591it [03:16,  4.47it/s]"
     ]
    },
    {
     "name": "stdout",
     "output_type": "stream",
     "text": [
      "Error at index Sincerely Yours: list index out of range\n",
      "Error at index Miracle (From \"Young Guns II\"): list index out of range\n"
     ]
    },
    {
     "name": "stderr",
     "output_type": "stream",
     "text": [
      "596it [03:17,  3.74it/s]"
     ]
    },
    {
     "name": "stdout",
     "output_type": "stream",
     "text": [
      "Error at index If U Were Mine: list index out of range\n"
     ]
    },
    {
     "name": "stderr",
     "output_type": "stream",
     "text": [
      "609it [03:21,  4.05it/s]"
     ]
    },
    {
     "name": "stdout",
     "output_type": "stream",
     "text": [
      "Error at index You've Lost That Lovin' Feeling: list index out of range\n"
     ]
    },
    {
     "name": "stderr",
     "output_type": "stream",
     "text": [
      "617it [03:23,  4.12it/s]"
     ]
    },
    {
     "name": "stdout",
     "output_type": "stream",
     "text": [
      "Error at index Modern Day Delilah: list index out of range\n"
     ]
    },
    {
     "name": "stderr",
     "output_type": "stream",
     "text": [
      "637it [03:29,  4.17it/s]"
     ]
    },
    {
     "name": "stdout",
     "output_type": "stream",
     "text": [
      "Error at index If I'd Been The One: list index out of range\n"
     ]
    },
    {
     "name": "stderr",
     "output_type": "stream",
     "text": [
      "641it [03:30,  4.06it/s]"
     ]
    },
    {
     "name": "stdout",
     "output_type": "stream",
     "text": [
      "Error at index Edge Of Seventeen (Just Like The White Winged Dove): list index out of range\n"
     ]
    },
    {
     "name": "stderr",
     "output_type": "stream",
     "text": [
      "659it [03:37,  3.82it/s]"
     ]
    },
    {
     "name": "stdout",
     "output_type": "stream",
     "text": [
      "Error at index I'll See You In My Dreams: list index out of range\n",
      "Error at index I'm Goin' Down: list index out of range\n"
     ]
    },
    {
     "name": "stderr",
     "output_type": "stream",
     "text": [
      "662it [03:38,  4.31it/s]"
     ]
    },
    {
     "name": "stdout",
     "output_type": "stream",
     "text": [
      "Error at index The Authority Song: list index out of range\n",
      "Error at index I'm Gonna Tear Your Playhouse Down: list index out of range\n"
     ]
    },
    {
     "name": "stderr",
     "output_type": "stream",
     "text": [
      "674it [03:42,  3.04it/s]"
     ]
    },
    {
     "name": "stdout",
     "output_type": "stream",
     "text": [
      "Error at index The NeverEnding Story: list index out of range\n"
     ]
    },
    {
     "name": "stderr",
     "output_type": "stream",
     "text": [
      "684it [03:46,  2.54it/s]"
     ]
    },
    {
     "name": "stdout",
     "output_type": "stream",
     "text": [
      "Error at index Killin' Time: list index out of range\n"
     ]
    },
    {
     "name": "stderr",
     "output_type": "stream",
     "text": [
      "691it [03:48,  4.08it/s]"
     ]
    },
    {
     "name": "stdout",
     "output_type": "stream",
     "text": [
      "Error at index Really Wanna Know You: list index out of range\n",
      "Error at index Hey Baby: list index out of range\n"
     ]
    },
    {
     "name": "stderr",
     "output_type": "stream",
     "text": [
      "707it [03:52,  3.79it/s]"
     ]
    },
    {
     "name": "stdout",
     "output_type": "stream",
     "text": [
      "Error at index Don't Make Me Wait For Love: list index out of range\n"
     ]
    },
    {
     "name": "stderr",
     "output_type": "stream",
     "text": [
      "713it [03:54,  3.80it/s]"
     ]
    },
    {
     "name": "stdout",
     "output_type": "stream",
     "text": [
      "Error at index Mary's Prayer: list index out of range\n"
     ]
    },
    {
     "name": "stderr",
     "output_type": "stream",
     "text": [
      "720it [03:56,  3.50it/s]"
     ]
    },
    {
     "name": "stdout",
     "output_type": "stream",
     "text": [
      "Error at index Goin' Down: list index out of range\n"
     ]
    },
    {
     "name": "stderr",
     "output_type": "stream",
     "text": [
      "730it [04:00,  2.98it/s]"
     ]
    },
    {
     "name": "stdout",
     "output_type": "stream",
     "text": [
      "Error at index Like No Other Night: list index out of range\n"
     ]
    },
    {
     "name": "stderr",
     "output_type": "stream",
     "text": [
      "732it [04:00,  3.20it/s]"
     ]
    },
    {
     "name": "stdout",
     "output_type": "stream",
     "text": [
      "Error at index Don't Answer Me: list index out of range\n"
     ]
    },
    {
     "name": "stderr",
     "output_type": "stream",
     "text": [
      "754it [04:09,  2.81it/s]"
     ]
    },
    {
     "name": "stdout",
     "output_type": "stream",
     "text": [
      "Error at index I'm Coming Out: list index out of range\n"
     ]
    },
    {
     "name": "stderr",
     "output_type": "stream",
     "text": [
      "761it [04:11,  3.01it/s]"
     ]
    },
    {
     "name": "stdout",
     "output_type": "stream",
     "text": [
      "Error at index Modern Woman (From \"Ruthless People\"): list index out of range\n"
     ]
    },
    {
     "name": "stderr",
     "output_type": "stream",
     "text": [
      "775it [04:16,  3.63it/s]"
     ]
    },
    {
     "name": "stdout",
     "output_type": "stream",
     "text": [
      "Error at index I Wonder If I Take You Home: list index out of range\n"
     ]
    },
    {
     "name": "stderr",
     "output_type": "stream",
     "text": [
      "790it [04:20,  4.38it/s]"
     ]
    },
    {
     "name": "stdout",
     "output_type": "stream",
     "text": [
      "Error at index A Nightmare On My Street: list index out of range\n",
      "Error at index I'll Be Good To You: list index out of range\n"
     ]
    },
    {
     "name": "stderr",
     "output_type": "stream",
     "text": [
      "794it [04:21,  4.38it/s]"
     ]
    },
    {
     "name": "stdout",
     "output_type": "stream",
     "text": [
      "Error at index Man Size Love (From \"Running Scared\"): list index out of range\n"
     ]
    },
    {
     "name": "stderr",
     "output_type": "stream",
     "text": [
      "798it [04:22,  3.75it/s]"
     ]
    },
    {
     "name": "stdout",
     "output_type": "stream",
     "text": [
      "Error at index Can't Stop Falling Into Love: list index out of range\n"
     ]
    },
    {
     "name": "stderr",
     "output_type": "stream",
     "text": [
      "824it [04:30,  4.70it/s]"
     ]
    },
    {
     "name": "stdout",
     "output_type": "stream",
     "text": [
      "Error at index I'm That Type Of Guy: list index out of range\n",
      "Error at index Don't Look Back: list index out of range\n"
     ]
    },
    {
     "name": "stderr",
     "output_type": "stream",
     "text": [
      "832it [04:32,  4.00it/s]"
     ]
    },
    {
     "name": "stdout",
     "output_type": "stream",
     "text": [
      "Error at index Strange But True: list index out of range\n"
     ]
    },
    {
     "name": "stderr",
     "output_type": "stream",
     "text": [
      "855it [04:39,  3.89it/s]"
     ]
    },
    {
     "name": "stdout",
     "output_type": "stream",
     "text": [
      "Error at index Come As You Are: list index out of range\n"
     ]
    },
    {
     "name": "stderr",
     "output_type": "stream",
     "text": [
      "861it [04:41,  4.02it/s]"
     ]
    },
    {
     "name": "stdout",
     "output_type": "stream",
     "text": [
      "Error at index The Beatles' Movie Medley: list index out of range\n"
     ]
    },
    {
     "name": "stderr",
     "output_type": "stream",
     "text": [
      "880it [04:46,  3.07it/s]\n"
     ]
    }
   ],
   "source": [
    "import pandas as pd\n",
    "import numpy as np\n",
    "\n",
    "# initiating empty dictionary\n",
    "# data = {}\n",
    "\n",
    "# data['date'] = np.array([])\n",
    "# data['song, artist'] = np.array([])\n",
    "# data['song'] = np.array([])\n",
    "# data['artist'] = np.array([])\n",
    "# data['danceability'] = np.array([])\n",
    "# data['energy'] = np.array([])\n",
    "# data['key'] = np.array([])\n",
    "# data['loudness'] = np.array([])\n",
    "# data['mode'] = np.array([])\n",
    "# data['speechiness'] = np.array([])\n",
    "# data['acousticness'] = np.array([])\n",
    "# data['instrumentalness'] = np.array([])\n",
    "# data['liveness'] = np.array([])\n",
    "# data['valence'] = np.array([])\n",
    "# data['tempo'] = np.array([])\n",
    "# data['duration_ms'] = np.array([])\n",
    "\n",
    "\n",
    "# Finding song features and appending them to the dictionary. Key: Feature. Value: Value of Features \n",
    "for index, row in tqdm(billboard_song_rankings.iloc[620:].iterrows()):\n",
    "    try:\n",
    "        song_features = get_track_features(row['song'], row['artist'])\n",
    "        # Appending danceability feature \n",
    "        data['danceability'] = np.append(data['danceability'], song_features[0]['danceability'])\n",
    "        \n",
    "        data['song, artist'] = np.append(data['song, artist'], index)\n",
    "        data['song'] = np.append(data['song'], row['song'])\n",
    "        data['artist'] = np.append(data['artist'], row['artist'])\n",
    "        data['date'] = np.append(data['date'], row['date'])\n",
    "        # Appending energy feature \n",
    "        data['energy'] = np.append(data['energy'], song_features[0]['energy'])\n",
    "\n",
    "        # Appending key feature \n",
    "        data['key'] = np.append(data['key'], song_features[0]['key'])\n",
    "\n",
    "        # Appending loudness feature \n",
    "        data['loudness'] = np.append(data['loudness'], song_features[0]['loudness'])\n",
    "\n",
    "        # Appending mode feature \n",
    "        data['mode'] = np.append(data['mode'], song_features[0]['mode'])\n",
    "\n",
    "        # Appending speechiness feature \n",
    "        data['speechiness'] = np.append(data['speechiness'], song_features[0]['speechiness'])\n",
    "\n",
    "        # Appending acousticness feature \n",
    "        data['acousticness'] = np.append(data['acousticness'], song_features[0]['acousticness'])\n",
    "\n",
    "        # Appending instrumentalness feature \n",
    "        data['instrumentalness'] = np.append(data['instrumentalness'], song_features[0]['instrumentalness'])\n",
    "\n",
    "        # Appending liveness feature\n",
    "        data['liveness'] = np.append(data['liveness'], song_features[0]['liveness'])\n",
    "\n",
    "        # Appending valence feature \n",
    "        data['valence'] = np.append(data['valence'], song_features[0]['valence'])\n",
    "\n",
    "        # Appending tempo feature \n",
    "        data['tempo'] = np.append(data['tempo'], song_features[0]['tempo'])\n",
    "\n",
    "        # Appending duration_ms feature \n",
    "        data['duration_ms'] = np.append(data['duration_ms'], song_features[0]['duration_ms'])\n",
    "        \n",
    "    except (IndexError, TypeError) as e:\n",
    "        print(f\"Error at index {row['song']}: {e}\")\n",
    "        continue  # Skip to the next iteration when an error occurs\n",
    "    \n",
    "eighties_features_df = pd.DataFrame(data)"
   ]
  },
  {
   "cell_type": "code",
   "execution_count": 352,
   "id": "f158b904",
   "metadata": {},
   "outputs": [
    {
     "data": {
      "text/html": [
       "<div>\n",
       "<style scoped>\n",
       "    .dataframe tbody tr th:only-of-type {\n",
       "        vertical-align: middle;\n",
       "    }\n",
       "\n",
       "    .dataframe tbody tr th {\n",
       "        vertical-align: top;\n",
       "    }\n",
       "\n",
       "    .dataframe thead th {\n",
       "        text-align: right;\n",
       "    }\n",
       "</style>\n",
       "<table border=\"1\" class=\"dataframe\">\n",
       "  <thead>\n",
       "    <tr style=\"text-align: right;\">\n",
       "      <th></th>\n",
       "      <th>date</th>\n",
       "      <th>song, artist</th>\n",
       "      <th>song</th>\n",
       "      <th>artist</th>\n",
       "      <th>danceability</th>\n",
       "      <th>energy</th>\n",
       "      <th>key</th>\n",
       "      <th>loudness</th>\n",
       "      <th>mode</th>\n",
       "      <th>speechiness</th>\n",
       "      <th>acousticness</th>\n",
       "      <th>instrumentalness</th>\n",
       "      <th>liveness</th>\n",
       "      <th>valence</th>\n",
       "      <th>tempo</th>\n",
       "      <th>duration_ms</th>\n",
       "      <th>popularity_score</th>\n",
       "    </tr>\n",
       "  </thead>\n",
       "  <tbody>\n",
       "    <tr>\n",
       "      <th>0</th>\n",
       "      <td>9/7/83</td>\n",
       "      <td>Every Breath You Take, The Police</td>\n",
       "      <td>Every Breath You Take</td>\n",
       "      <td>The Police</td>\n",
       "      <td>0.820</td>\n",
       "      <td>0.452</td>\n",
       "      <td>1.0</td>\n",
       "      <td>-9.796</td>\n",
       "      <td>1.0</td>\n",
       "      <td>0.0348</td>\n",
       "      <td>0.5430</td>\n",
       "      <td>0.002940</td>\n",
       "      <td>0.0714</td>\n",
       "      <td>0.740</td>\n",
       "      <td>117.401</td>\n",
       "      <td>253920.0</td>\n",
       "      <td>1.394813</td>\n",
       "    </tr>\n",
       "    <tr>\n",
       "      <th>1</th>\n",
       "      <td>9/1/82</td>\n",
       "      <td>Physical, Olivia Newton-John</td>\n",
       "      <td>Physical</td>\n",
       "      <td>Olivia Newton-John</td>\n",
       "      <td>0.840</td>\n",
       "      <td>0.728</td>\n",
       "      <td>4.0</td>\n",
       "      <td>-8.473</td>\n",
       "      <td>0.0</td>\n",
       "      <td>0.0436</td>\n",
       "      <td>0.1270</td>\n",
       "      <td>0.001140</td>\n",
       "      <td>0.1140</td>\n",
       "      <td>0.740</td>\n",
       "      <td>124.066</td>\n",
       "      <td>225993.0</td>\n",
       "      <td>1.371197</td>\n",
       "    </tr>\n",
       "    <tr>\n",
       "      <th>2</th>\n",
       "      <td>9/1/82</td>\n",
       "      <td>Waiting For A Girl Like You, Foreigner</td>\n",
       "      <td>Waiting For A Girl Like You</td>\n",
       "      <td>Foreigner</td>\n",
       "      <td>0.330</td>\n",
       "      <td>0.469</td>\n",
       "      <td>10.0</td>\n",
       "      <td>-9.286</td>\n",
       "      <td>0.0</td>\n",
       "      <td>0.0335</td>\n",
       "      <td>0.3100</td>\n",
       "      <td>0.000002</td>\n",
       "      <td>0.0402</td>\n",
       "      <td>0.433</td>\n",
       "      <td>201.327</td>\n",
       "      <td>292067.0</td>\n",
       "      <td>1.277778</td>\n",
       "    </tr>\n",
       "    <tr>\n",
       "      <th>3</th>\n",
       "      <td>9/5/81</td>\n",
       "      <td>Celebration, Kool</td>\n",
       "      <td>Celebration</td>\n",
       "      <td>Kool</td>\n",
       "      <td>0.885</td>\n",
       "      <td>0.664</td>\n",
       "      <td>1.0</td>\n",
       "      <td>-11.795</td>\n",
       "      <td>1.0</td>\n",
       "      <td>0.0524</td>\n",
       "      <td>0.1450</td>\n",
       "      <td>0.048300</td>\n",
       "      <td>0.0767</td>\n",
       "      <td>0.906</td>\n",
       "      <td>121.632</td>\n",
       "      <td>298867.0</td>\n",
       "      <td>1.271186</td>\n",
       "    </tr>\n",
       "    <tr>\n",
       "      <th>4</th>\n",
       "      <td>9/7/83</td>\n",
       "      <td>Flashdance...What A Feeling, Irene Cara</td>\n",
       "      <td>Flashdance...What A Feeling</td>\n",
       "      <td>Irene Cara</td>\n",
       "      <td>0.572</td>\n",
       "      <td>0.654</td>\n",
       "      <td>7.0</td>\n",
       "      <td>-7.027</td>\n",
       "      <td>0.0</td>\n",
       "      <td>0.0344</td>\n",
       "      <td>0.0058</td>\n",
       "      <td>0.000003</td>\n",
       "      <td>0.0900</td>\n",
       "      <td>0.399</td>\n",
       "      <td>122.491</td>\n",
       "      <td>237053.0</td>\n",
       "      <td>1.250000</td>\n",
       "    </tr>\n",
       "    <tr>\n",
       "      <th>...</th>\n",
       "      <td>...</td>\n",
       "      <td>...</td>\n",
       "      <td>...</td>\n",
       "      <td>...</td>\n",
       "      <td>...</td>\n",
       "      <td>...</td>\n",
       "      <td>...</td>\n",
       "      <td>...</td>\n",
       "      <td>...</td>\n",
       "      <td>...</td>\n",
       "      <td>...</td>\n",
       "      <td>...</td>\n",
       "      <td>...</td>\n",
       "      <td>...</td>\n",
       "      <td>...</td>\n",
       "      <td>...</td>\n",
       "      <td>...</td>\n",
       "    </tr>\n",
       "    <tr>\n",
       "      <th>1334</th>\n",
       "      <td>8/9/84</td>\n",
       "      <td>Bop 'til You Drop, Rick Springfield</td>\n",
       "      <td>Bop 'til You Drop</td>\n",
       "      <td>Rick Springfield</td>\n",
       "      <td>0.704</td>\n",
       "      <td>0.873</td>\n",
       "      <td>11.0</td>\n",
       "      <td>-4.738</td>\n",
       "      <td>0.0</td>\n",
       "      <td>0.0426</td>\n",
       "      <td>0.1330</td>\n",
       "      <td>0.000008</td>\n",
       "      <td>0.1870</td>\n",
       "      <td>0.623</td>\n",
       "      <td>115.233</td>\n",
       "      <td>258653.0</td>\n",
       "      <td>0.336323</td>\n",
       "    </tr>\n",
       "    <tr>\n",
       "      <th>1335</th>\n",
       "      <td>8/11/86</td>\n",
       "      <td>Girl Can't Help It, Journey</td>\n",
       "      <td>Girl Can't Help It</td>\n",
       "      <td>Journey</td>\n",
       "      <td>0.517</td>\n",
       "      <td>0.922</td>\n",
       "      <td>9.0</td>\n",
       "      <td>-2.341</td>\n",
       "      <td>0.0</td>\n",
       "      <td>0.0780</td>\n",
       "      <td>0.0556</td>\n",
       "      <td>0.000004</td>\n",
       "      <td>0.3580</td>\n",
       "      <td>0.448</td>\n",
       "      <td>126.028</td>\n",
       "      <td>230640.0</td>\n",
       "      <td>0.336192</td>\n",
       "    </tr>\n",
       "    <tr>\n",
       "      <th>1336</th>\n",
       "      <td>9/6/90</td>\n",
       "      <td>You Can't Deny It, Lisa Stansfield</td>\n",
       "      <td>You Can't Deny It</td>\n",
       "      <td>Lisa Stansfield</td>\n",
       "      <td>0.716</td>\n",
       "      <td>0.640</td>\n",
       "      <td>2.0</td>\n",
       "      <td>-12.906</td>\n",
       "      <td>1.0</td>\n",
       "      <td>0.1300</td>\n",
       "      <td>0.4250</td>\n",
       "      <td>0.000032</td>\n",
       "      <td>0.1040</td>\n",
       "      <td>0.935</td>\n",
       "      <td>99.974</td>\n",
       "      <td>331747.0</td>\n",
       "      <td>0.336192</td>\n",
       "    </tr>\n",
       "    <tr>\n",
       "      <th>1337</th>\n",
       "      <td>8/4/89</td>\n",
       "      <td>The Love In Your Eyes, Eddie Money</td>\n",
       "      <td>The Love In Your Eyes</td>\n",
       "      <td>Eddie Money</td>\n",
       "      <td>0.627</td>\n",
       "      <td>0.712</td>\n",
       "      <td>0.0</td>\n",
       "      <td>-12.371</td>\n",
       "      <td>1.0</td>\n",
       "      <td>0.0406</td>\n",
       "      <td>0.1560</td>\n",
       "      <td>0.000001</td>\n",
       "      <td>0.4240</td>\n",
       "      <td>0.718</td>\n",
       "      <td>97.921</td>\n",
       "      <td>246627.0</td>\n",
       "      <td>0.336100</td>\n",
       "    </tr>\n",
       "    <tr>\n",
       "      <th>1338</th>\n",
       "      <td>8/3/86</td>\n",
       "      <td>I Can't Wait, Stevie Nicks</td>\n",
       "      <td>I Can't Wait</td>\n",
       "      <td>Stevie Nicks</td>\n",
       "      <td>0.610</td>\n",
       "      <td>0.931</td>\n",
       "      <td>9.0</td>\n",
       "      <td>-4.955</td>\n",
       "      <td>0.0</td>\n",
       "      <td>0.0874</td>\n",
       "      <td>0.0037</td>\n",
       "      <td>0.003520</td>\n",
       "      <td>0.8730</td>\n",
       "      <td>0.449</td>\n",
       "      <td>125.399</td>\n",
       "      <td>275840.0</td>\n",
       "      <td>0.335984</td>\n",
       "    </tr>\n",
       "  </tbody>\n",
       "</table>\n",
       "<p>1339 rows × 17 columns</p>\n",
       "</div>"
      ],
      "text/plain": [
       "         date                             song, artist  \\\n",
       "0      9/7/83        Every Breath You Take, The Police   \n",
       "1      9/1/82             Physical, Olivia Newton-John   \n",
       "2      9/1/82   Waiting For A Girl Like You, Foreigner   \n",
       "3      9/5/81                        Celebration, Kool   \n",
       "4      9/7/83  Flashdance...What A Feeling, Irene Cara   \n",
       "...       ...                                      ...   \n",
       "1334   8/9/84      Bop 'til You Drop, Rick Springfield   \n",
       "1335  8/11/86              Girl Can't Help It, Journey   \n",
       "1336   9/6/90       You Can't Deny It, Lisa Stansfield   \n",
       "1337   8/4/89       The Love In Your Eyes, Eddie Money   \n",
       "1338   8/3/86               I Can't Wait, Stevie Nicks   \n",
       "\n",
       "                             song              artist  danceability  energy  \\\n",
       "0           Every Breath You Take          The Police         0.820   0.452   \n",
       "1                        Physical  Olivia Newton-John         0.840   0.728   \n",
       "2     Waiting For A Girl Like You           Foreigner         0.330   0.469   \n",
       "3                     Celebration                Kool         0.885   0.664   \n",
       "4     Flashdance...What A Feeling          Irene Cara         0.572   0.654   \n",
       "...                           ...                 ...           ...     ...   \n",
       "1334            Bop 'til You Drop    Rick Springfield         0.704   0.873   \n",
       "1335           Girl Can't Help It             Journey         0.517   0.922   \n",
       "1336            You Can't Deny It     Lisa Stansfield         0.716   0.640   \n",
       "1337        The Love In Your Eyes         Eddie Money         0.627   0.712   \n",
       "1338                 I Can't Wait        Stevie Nicks         0.610   0.931   \n",
       "\n",
       "       key  loudness  mode  speechiness  acousticness  instrumentalness  \\\n",
       "0      1.0    -9.796   1.0       0.0348        0.5430          0.002940   \n",
       "1      4.0    -8.473   0.0       0.0436        0.1270          0.001140   \n",
       "2     10.0    -9.286   0.0       0.0335        0.3100          0.000002   \n",
       "3      1.0   -11.795   1.0       0.0524        0.1450          0.048300   \n",
       "4      7.0    -7.027   0.0       0.0344        0.0058          0.000003   \n",
       "...    ...       ...   ...          ...           ...               ...   \n",
       "1334  11.0    -4.738   0.0       0.0426        0.1330          0.000008   \n",
       "1335   9.0    -2.341   0.0       0.0780        0.0556          0.000004   \n",
       "1336   2.0   -12.906   1.0       0.1300        0.4250          0.000032   \n",
       "1337   0.0   -12.371   1.0       0.0406        0.1560          0.000001   \n",
       "1338   9.0    -4.955   0.0       0.0874        0.0037          0.003520   \n",
       "\n",
       "      liveness  valence    tempo  duration_ms  popularity_score  \n",
       "0       0.0714    0.740  117.401     253920.0          1.394813  \n",
       "1       0.1140    0.740  124.066     225993.0          1.371197  \n",
       "2       0.0402    0.433  201.327     292067.0          1.277778  \n",
       "3       0.0767    0.906  121.632     298867.0          1.271186  \n",
       "4       0.0900    0.399  122.491     237053.0          1.250000  \n",
       "...        ...      ...      ...          ...               ...  \n",
       "1334    0.1870    0.623  115.233     258653.0          0.336323  \n",
       "1335    0.3580    0.448  126.028     230640.0          0.336192  \n",
       "1336    0.1040    0.935   99.974     331747.0          0.336192  \n",
       "1337    0.4240    0.718   97.921     246627.0          0.336100  \n",
       "1338    0.8730    0.449  125.399     275840.0          0.335984  \n",
       "\n",
       "[1339 rows x 17 columns]"
      ]
     },
     "execution_count": 352,
     "metadata": {},
     "output_type": "execute_result"
    }
   ],
   "source": [
    "dataset_eighties_features_df = eighties_features_df\n",
    "dataset_eighties_features_df = pd.merge(dataset_eighties_features_df, billboard_song_rankings_eighties['popularity_score'], on = \"song, artist\")\n",
    "dataset_eighties_features_df"
   ]
  },
  {
   "cell_type": "code",
   "execution_count": 353,
   "id": "2f374d3b",
   "metadata": {},
   "outputs": [],
   "source": [
    "dataset_eighties_features_df.to_csv('1981-1990_scraped.csv', index=False)"
   ]
  },
  {
   "cell_type": "code",
   "execution_count": 417,
   "id": "83b162be",
   "metadata": {},
   "outputs": [
    {
     "data": {
      "image/png": "[encoded data removed]",
      "text/plain": [
       "<Figure size 640x480 with 1 Axes>"
      ]
     },
     "metadata": {},
     "output_type": "display_data"
    }
   ],
   "source": [
    "## multi-histogram plots to show change in mode over time\n",
    "\n",
    "import matplotlib.pyplot as plt\n",
    "import seaborn as sns\n",
    "from scipy.stats import norm\n",
    "\n",
    "# Assuming df is your DataFrame and 'column_name' is the column you want to check\n",
    "sns.histplot(dataset_eighties_features_df['danceability'], kde=False, edgecolor='None', label='70s', bins = 30)\n",
    "sns.histplot(dataset_seventies_features_df['danceability'], kde=False, edgecolor='None', label='80s', bins = 30)\n",
    "plt.legend()\n",
    "plt.show()"
   ]
  },
  {
   "cell_type": "code",
   "execution_count": 460,
   "id": "9f0ad173",
   "metadata": {
    "scrolled": false
   },
   "outputs": [
    {
     "data": {
      "image/png": "[encoded data removed]",
      "text/plain": [
       "<Figure size 1000x600 with 12 Axes>"
      ]
     },
     "metadata": {},
     "output_type": "display_data"
    }
   ],
   "source": [
    "import matplotlib.pyplot as plt\n",
    "\n",
    "file_path = '/Users/ryanye/Documents/Yale-NUS/DIS Copenhagen/Modules/Big Data/scraped-data.csv'\n",
    "\n",
    "# read the file as a pandas dataframe\n",
    "dataset_overall_features_df = pd.read_csv(file_path)\n",
    "# Assuming df is your DataFrame\n",
    "selected_columns = ['danceability', 'energy', 'loudness', 'speechiness',\n",
    "                   'acousticness', 'instrumentalness', 'liveness', 'valence', 'tempo', \n",
    "                    'duration_ms', 'popularity_score']  # Replace with your desired column names\n",
    "\n",
    "    \n",
    "fig, axes = plt.subplots(nrows=4, ncols=3, figsize=(10, 6))\n",
    "\n",
    "# Flatten the axes to make it easier to iterate\n",
    "axes = axes.flatten()\n",
    "\n",
    "# Plot histogram for each column side by side\n",
    "for i, column in enumerate(selected_columns):\n",
    "    axes[i].hist(dataset_overall_features_df[column], bins = 20, alpha = 0.5, edgecolor = 'black')\n",
    "    axes[i].set_title(f'Histogram of {column}')\n",
    "    axes[i].set_xlabel('Values')\n",
    "    axes[i].set_ylabel('Frequency')\n",
    "    \n",
    "plt.tight_layout()\n",
    "plt.show()"
   ]
  },
  {
   "cell_type": "code",
   "execution_count": 485,
   "id": "a71cfaed",
   "metadata": {},
   "outputs": [
    {
     "data": {
      "text/plain": [
       "(6754, 17)"
      ]
     },
     "execution_count": 485,
     "metadata": {},
     "output_type": "execute_result"
    }
   ],
   "source": [
    "file_path = '/Users/ryanye/Documents/Yale-NUS/DIS Copenhagen/Modules/Big Data/scraped-data.csv'\n",
    "\n",
    "# read the file as a pandas dataframe\n",
    "dataset_overall_features_df = pd.read_csv(file_path)\n",
    "dataset_overall_features_df.shape"
   ]
  },
  {
   "cell_type": "code",
   "execution_count": 451,
   "id": "bb7513e6",
   "metadata": {
    "scrolled": false
   },
   "outputs": [
    {
     "ename": "TypeError",
     "evalue": "summary_legacy() got an unexpected keyword argument 'feature_order'",
     "output_type": "error",
     "traceback": [
      "\u001b[0;31m---------------------------------------------------------------------------\u001b[0m",
      "\u001b[0;31mTypeError\u001b[0m                                 Traceback (most recent call last)",
      "Cell \u001b[0;32mIn[451], line 22\u001b[0m\n\u001b[1;32m     19\u001b[0m \u001b[38;5;66;03m# Summarize the effects of all the features\u001b[39;00m\n\u001b[1;32m     20\u001b[0m order_of_features \u001b[38;5;241m=\u001b[39m [\u001b[38;5;124m'\u001b[39m\u001b[38;5;124mloudness\u001b[39m\u001b[38;5;124m'\u001b[39m, \u001b[38;5;124m'\u001b[39m\u001b[38;5;124mdanceability\u001b[39m\u001b[38;5;124m'\u001b[39m, \u001b[38;5;124m'\u001b[39m\u001b[38;5;124menergy\u001b[39m\u001b[38;5;124m'\u001b[39m, \u001b[38;5;124m'\u001b[39m\u001b[38;5;124macousticness\u001b[39m\u001b[38;5;124m'\u001b[39m, \u001b[38;5;124m'\u001b[39m\u001b[38;5;124mtempo\u001b[39m\u001b[38;5;124m'\u001b[39m, \u001b[38;5;124m'\u001b[39m\u001b[38;5;124mvalence\u001b[39m\u001b[38;5;124m'\u001b[39m, \u001b[38;5;124m'\u001b[39m\u001b[38;5;124mliveness\u001b[39m\u001b[38;5;124m'\u001b[39m, \u001b[38;5;124m'\u001b[39m\u001b[38;5;124minstrumentalness\u001b[39m\u001b[38;5;124m'\u001b[39m,\n\u001b[1;32m     21\u001b[0m                 \u001b[38;5;124m'\u001b[39m\u001b[38;5;124mspeechiness\u001b[39m\u001b[38;5;124m'\u001b[39m, \u001b[38;5;124m'\u001b[39m\u001b[38;5;124mmode\u001b[39m\u001b[38;5;124m'\u001b[39m, \u001b[38;5;124m'\u001b[39m\u001b[38;5;124mkey\u001b[39m\u001b[38;5;124m'\u001b[39m]\n\u001b[0;32m---> 22\u001b[0m \u001b[43mshap\u001b[49m\u001b[38;5;241;43m.\u001b[39;49m\u001b[43msummary_plot\u001b[49m\u001b[43m(\u001b[49m\u001b[43mshap_values\u001b[49m\u001b[43m,\u001b[49m\u001b[43m \u001b[49m\u001b[43mX_test\u001b[49m\u001b[43m,\u001b[49m\u001b[43m \u001b[49m\u001b[43mshow\u001b[49m\u001b[43m \u001b[49m\u001b[38;5;241;43m=\u001b[39;49m\u001b[43m \u001b[49m\u001b[38;5;28;43;01mFalse\u001b[39;49;00m\u001b[43m,\u001b[49m\u001b[43m \u001b[49m\u001b[43mfeature_order\u001b[49m\u001b[43m \u001b[49m\u001b[38;5;241;43m=\u001b[39;49m\u001b[43m \u001b[49m\u001b[43morder_of_features\u001b[49m\u001b[43m)\u001b[49m\n\u001b[1;32m     23\u001b[0m plt\u001b[38;5;241m.\u001b[39msavefig(\u001b[38;5;124m'\u001b[39m\u001b[38;5;124mshap_summary_plot_70s.png\u001b[39m\u001b[38;5;124m'\u001b[39m)\n",
      "\u001b[0;31mTypeError\u001b[0m: summary_legacy() got an unexpected keyword argument 'feature_order'"
     ]
    }
   ],
   "source": [
    "## Using SHAP to find feature importance\n",
    "\n",
    "from sklearn.ensemble import RandomForestRegressor\n",
    "from sklearn.model_selection import train_test_split\n",
    "import shap\n",
    "\n",
    "# Dropping the duration_ms feature because it does not impact popularity of song\n",
    "dataset_seventies_features_df_removed = dataset_seventies_features_df.drop(columns = [\"duration_ms\"])\n",
    "# Coming up with feature matrix and target array\n",
    "feature_matrix_seventies = dataset_seventies_features_df_removed.iloc[:, 4:15]\n",
    "target_array_seventies = dataset_seventies_features_df_removed.iloc[:, 15]\n",
    "# Split the data into training and testing sets\n",
    "X_train, X_test, y_train, y_test = train_test_split(feature_matrix_seventies, target_array_seventies, test_size=0.2, random_state=42)\n",
    "rf_model = RandomForestRegressor(n_estimators=100, random_state=42)\n",
    "rf_model.fit(X_train, y_train)\n",
    "# Explain the model's predictions using SHAP values\n",
    "explainer = shap.TreeExplainer(rf_model)\n",
    "shap_values = explainer.shap_values(X_test)\n",
    "# Summarize the effects of all the features\n",
    "shap.summary_plot(shap_values, X_test, show = False)\n",
    "plt.savefig('shap_summary_plot_70s.png')"
   ]
  },
  {
   "cell_type": "markdown",
   "id": "18e2ca3b",
   "metadata": {},
   "source": [
    "### Removing features from feature set\n",
    "From the chart above, we observe that some features do not seem to impact SHAP value positively or negatively. Thus we will be removing **duration_ms** from the feature set."
   ]
  },
  {
   "cell_type": "code",
   "execution_count": 383,
   "id": "9d597689",
   "metadata": {},
   "outputs": [],
   "source": [
    "features_matrix = dataset_eighties_features_df.iloc[:, 4:16]\n",
    "target_array_squared = dataset_eighties_features_df.iloc[:, 16] ** 2\n",
    "target_array = dataset_eighties_features_df.iloc[:, 16]"
   ]
  },
  {
   "cell_type": "code",
   "execution_count": 445,
   "id": "893026f9",
   "metadata": {},
   "outputs": [
    {
     "data": {
      "image/png": "[encoded data removed]",
      "text/plain": [
       "<Figure size 800x630 with 2 Axes>"
      ]
     },
     "metadata": {},
     "output_type": "display_data"
    }
   ],
   "source": [
    "## Using SHAP to find feature importance\n",
    "\n",
    "from sklearn.ensemble import RandomForestRegressor\n",
    "from sklearn.model_selection import train_test_split\n",
    "\n",
    "# Coming up with feature matrix and target array\n",
    "feature_matrix_eighties = dataset_eighties_features_df.iloc[:, 4:16]\n",
    "target_array_eighties = dataset_eighties_features_df.iloc[:, 16]\n",
    "# Split the data into training and testing sets\n",
    "X_train, X_test, y_train, y_test = train_test_split(feature_matrix_eighties, target_array_eighties, test_size=0.2, random_state=42)\n",
    "rf_model = RandomForestRegressor(n_estimators=100, random_state=42)\n",
    "rf_model.fit(X_train, y_train)\n",
    "\n",
    "import shap\n",
    "# Explain the model's predictions using SHAP values\n",
    "explainer = shap.TreeExplainer(rf_model)\n",
    "shap_values = explainer.shap_values(X_test)\n",
    "# Summarize the effects of all the features\n",
    "shap.summary_plot(shap_values, X_test, show = False)\n",
    "plt.savefig('shap_summary_plot_80s.png')"
   ]
  },
  {
   "cell_type": "code",
   "execution_count": null,
   "id": "b5028316",
   "metadata": {},
   "outputs": [],
   "source": [
    "## Using SHAP to find feature importance\n",
    "\n",
    "from sklearn.ensemble import RandomForestRegressor\n",
    "from sklearn.model_selection import train_test_split\n",
    "import shap\n",
    "\n",
    "# Coming up with feature matrix and target array\n",
    "feature_matrix_eighties = dataset_eighties_features_df.iloc[:, 4:16]\n",
    "target_array_eighties = dataset_eighties_features_df.iloc[:, 16]\n",
    "# Split the data into training and testing sets\n",
    "X_train, X_test, y_train, y_test = train_test_split(feature_matrix_eighties, target_array_eighties, test_size=0.2, random_state=42)\n",
    "rf_model = RandomForestRegressor(n_estimators=100, random_state=42)\n",
    "rf_model.fit(X_train, y_train)\n",
    "# Explain the model's predictions using SHAP values\n",
    "explainer = shap.TreeExplainer(rf_model)\n",
    "shap_values = explainer.shap_values(X_test)\n",
    "# Summarize the effects of all the features\n",
    "shap.summary_plot(shap_values, X_test)\n",
    "plt.savefig('shap_summary_plot_90s.png')"
   ]
  },
  {
   "cell_type": "code",
   "execution_count": null,
   "id": "0a53ff26",
   "metadata": {},
   "outputs": [],
   "source": [
    "plt.figure(figsize=(20, 10))\n",
    "sns.set(style=\"whitegrid\")\n",
    "# the columns that we are interested in\n",
    "target_cols = [\"acousticness\",\"danceability\",\"energy\",\"speechiness\",\"liveness\",\"valence\"]\n",
    "for c in target_cols:\n",
    "   # group the data by year, and plot the mean score of all music in that year\n",
    "   x = df.groupby(\"year\")[c].mean()\n",
    "   ax= sns.lineplot(x=x.index,y=x,label=c)\n",
    "\n",
    "\n",
    "ax.set_title('Music Attributes over the years', fontsize = 20)\n",
    "ax.legend(fancybox=True, framealpha=1, shadow=True, prop={'size': 15}, loc = 'upper right')\n",
    "ax.set_ylabel('Score', fontsize = 20)\n",
    "#ax.set_xlabel('Year', fontsize = 20)\n"
   ]
  },
  {
   "cell_type": "code",
   "execution_count": 483,
   "id": "cc2da9a3",
   "metadata": {},
   "outputs": [
    {
     "name": "stdout",
     "output_type": "stream",
     "text": [
      "The predicted popularity for greedy by Tate McRae is [1.59613747]\n"
     ]
    }
   ],
   "source": [
    "# Using random forest regressor to find the popularity score of a song trending now\n",
    "\n",
    "from sklearn.ensemble import RandomForestRegressor\n",
    "from sklearn.model_selection import train_test_split\n",
    "import shap\n",
    "\n",
    "file_path = '/Users/ryanye/Documents/Yale-NUS/DIS Copenhagen/Modules/Big Data/2011-2020_scraped.csv'\n",
    "\n",
    "# read the file as a pandas dataframe\n",
    "dataset_tens_features_df = pd.read_csv(file_path)\n",
    "dataset_tens_features_df_removed = dataset_tens_features_df.drop(columns = [\"duration_ms\"])\n",
    "# Coming up with feature matrix and target array\n",
    "feature_matrix_tens = dataset_tens_features_df_removed.iloc[:, 4:15]\n",
    "target_array_tens = dataset_tens_features_df_removed.iloc[:, 15]\n",
    "# Split the data into training and testing sets\n",
    "X_train, X_test, y_train, y_test = train_test_split(feature_matrix_tens, target_array_tens, test_size=0.2, random_state=42)\n",
    "rf_model = RandomForestRegressor(n_estimators=100, random_state=42)\n",
    "rf_model.fit(X_train, y_train)\n",
    "\n",
    "test_song_features = {}\n",
    "test_song_features['danceability'] = np.array([])\n",
    "test_song_features['energy'] = np.array([])\n",
    "test_song_features['key'] = np.array([])\n",
    "test_song_features['loudness'] = np.array([])\n",
    "test_song_features['mode'] = np.array([])\n",
    "test_song_features['speechiness'] = np.array([])\n",
    "test_song_features['acousticness'] = np.array([])\n",
    "test_song_features['instrumentalness'] = np.array([])\n",
    "test_song_features['liveness'] = np.array([])\n",
    "test_song_features['valence'] = np.array([])\n",
    "test_song_features['tempo'] = np.array([])\n",
    "\n",
    "song = \"greedy\"\n",
    "artist = \"Tate McRae\"\n",
    "song_features = get_track_features(song, artist)\n",
    "# Appending danceability feature \n",
    "test_song_features['danceability'] = np.append(test_song_features['danceability'], song_features[0]['danceability'])\n",
    "\n",
    "# Appending energy feature \n",
    "test_song_features['energy'] = np.append(test_song_features['energy'], song_features[0]['energy'])\n",
    "\n",
    "# Appending key feature \n",
    "test_song_features['key'] = np.append(test_song_features['key'], song_features[0]['key'])\n",
    "\n",
    "# Appending loudness feature \n",
    "test_song_features['loudness'] = np.append(test_song_features['loudness'], song_features[0]['loudness'])\n",
    "\n",
    "# Appending mode feature \n",
    "test_song_features['mode'] = np.append(test_song_features['mode'], song_features[0]['mode'])\n",
    "\n",
    "# Appending speechiness feature \n",
    "test_song_features['speechiness'] = np.append(test_song_features['speechiness'], song_features[0]['speechiness'])\n",
    "\n",
    "# Appending acousticness feature \n",
    "test_song_features['acousticness'] = np.append(test_song_features['acousticness'], song_features[0]['acousticness'])\n",
    "\n",
    "# Appending instrumentalness feature \n",
    "test_song_features['instrumentalness'] = np.append(test_song_features['instrumentalness'], song_features[0]['instrumentalness'])\n",
    "\n",
    "# Appending liveness feature\n",
    "test_song_features['liveness'] = np.append(test_song_features['liveness'], song_features[0]['liveness'])\n",
    "\n",
    "# Appending valence feature \n",
    "test_song_features['valence'] = np.append(test_song_features['valence'], song_features[0]['valence'])\n",
    "\n",
    "# Appending tempo feature \n",
    "test_song_features['tempo'] = np.append(test_song_features['tempo'], song_features[0]['tempo'])\n",
    "\n",
    "test_song_df = pd.DataFrame(test_song_features) \n",
    "\n",
    "pred_song_pop = rf_model.predict(test_song_df.iloc[:,:])\n",
    "pred_song_pop\n",
    "\n",
    "print(f\"The predicted popularity for {song} by {artist} is {pred_song_pop}\")"
   ]
  },
  {
   "cell_type": "code",
   "execution_count": 482,
   "id": "3e8f2f99",
   "metadata": {
    "scrolled": true
   },
   "outputs": [
    {
     "data": {
      "image/png": "[encoded data removed]",
      "text/plain": [
       "<Figure size 640x480 with 1 Axes>"
      ]
     },
     "metadata": {},
     "output_type": "display_data"
    }
   ],
   "source": [
    "import matplotlib.pyplot as plt\n",
    "import seaborn as sns\n",
    "from scipy.stats import norm\n",
    "\n",
    "file_path = '/Users/ryanye/Documents/Yale-NUS/DIS Copenhagen/Modules/Big Data/2011-2020_scraped.csv'\n",
    "\n",
    "# read the file as a pandas dataframe\n",
    "dataset_tens_features_df = pd.read_csv(file_path)\n",
    "dataset_tens_features_df_removed = dataset_tens_features_df.drop(columns = [\"duration_ms\"])\n",
    "specific_value_1 = 1.596\n",
    "specific_value_2 = 0.69\n",
    "\n",
    "# Add a vertical line at the specific value\n",
    "sns.histplot(dataset_tens_features_df_removed['popularity_score'], kde=False, edgecolor='None', bins = 30)\n",
    "plt.axvline(specific_value_1, color='red', linestyle='dashed', linewidth=2, label=f'greedy: {specific_value_1}')\n",
    "plt.axvline(specific_value_2, color='orange', linestyle='dashed', linewidth=2, label=f'All Too Well: {specific_value_2}')\n",
    "plt.legend()\n",
    "plt.show()"
   ]
  },
  {
   "cell_type": "code",
   "execution_count": null,
   "id": "58b756cc",
   "metadata": {},
   "outputs": [],
   "source": [
    "plt.figure(figsize=(20, 10))\n",
    "sns.set(style=\"whitegrid\")\n",
    "# the columns that we are interested in\n",
    "target_cols = [\"acousticness\",\"danceability\",\"energy\",\"speechiness\",\"liveness\",\"valence\"]\n",
    "for c in target_cols:\n",
    "    # group the data by year, and plot the mean score of all music in that year\n",
    "    x = df.groupby(\"year\")[c].mean()\n",
    "    ax= sns.lineplot(x=x.index,y=x,label=c)\n",
    "\n",
    "ax.set_title('Music Attributes over the years', fontsize = 20)\n",
    "ax.legend(fancybox=True, framealpha=1, shadow=True, prop={'size': 15}, loc = 'upper right')\n",
    "ax.set_ylabel('Score', fontsize = 20)\n",
    "ax.set_xlabel('Year', fontsize = 20)"
   ]
  },
  {
   "cell_type": "code",
   "execution_count": null,
   "id": "01e57116",
   "metadata": {},
   "outputs": [],
   "source": [
    "plt.figure(figsize=(20, 10))\n",
    "sns.set(style=\"whitegrid\")\n",
    "# the columns that we are interseted in\n",
    "target_cols = [\"loudness\"]\n",
    "for c in target_cols:\n",
    "    # group the data by year, and plot the mean score of all music in that year\n",
    "    x = df[df['year']>=1971][df['year']<=2020].groupby(\"year\")[c].mean()\n",
    "    ax= sns.lineplot(x=x.index,y=x,label=c)\n",
    "\n",
    "ax.set_title('Loudness over the years', fontsize = 20)\n",
    "ax.legend(fancybox=True, framealpha=1, shadow=True, prop={'size': 15}, loc = 'upper left')\n",
    "ax.set_ylabel('Loudness', fontsize = 20)\n",
    "ax.set_xlabel('Year', fontsize = 20)"
   ]
  },
  {
   "cell_type": "code",
   "execution_count": null,
   "id": "7ac0c79a",
   "metadata": {},
   "outputs": [],
   "source": [
    "plt.figure(figsize=(20, 10))\n",
    "sns.set(style=\"whitegrid\")\n",
    "# the columns that we are interseted in\n",
    "target_cols = [\"acousticness\",\"danceability\",\"energy\",\"speechiness\",\"liveness\",\"valence\"]\n",
    "for c in target_cols:\n",
    "    # group the data by year, and plot the mean score of all music in that year\n",
    "    x = df[df['year']>=1971][df['year']<=2020].groupby(\"year\")[c].mean()\n",
    "    ax= sns.lineplot(x=x.index,y=x,label=c)\n",
    "\n",
    "ax.set_title('Music Attributes over the years', fontsize = 20)\n",
    "ax.legend(fancybox=True, framealpha=1, shadow=True, prop={'size': 15}, loc = 'upper right')\n",
    "ax.set_ylabel('Score', fontsize = 20)\n",
    "ax.set_xlabel('Year', fontsize = 20)"
   ]
  },
  {
   "cell_type": "code",
   "execution_count": null,
   "id": "9fc72466",
   "metadata": {},
   "outputs": [],
   "source": [
    "plt.figure(figsize=(20, 10))\n",
    "sns.set(style=\"whitegrid\")\n",
    "# the columns that we are interseted in\n",
    "target_cols = [\"popularity_score\"]\n",
    "for c in target_cols:\n",
    "    # group the data by year, and plot the mean score of all music in that year\n",
    "    x = df[df['year']>=1971][df['year']<=2020].groupby(\"year\")[c].mean()\n",
    "    ax= sns.lineplot(x=x.index,y=x,label=c)\n",
    "\n",
    "ax.set_title('Popularity Scores over the years', fontsize = 20)\n",
    "ax.legend(fancybox=True, framealpha=1, shadow=True, prop={'size': 15}, loc = 'upper left')\n",
    "ax.set_ylabel('Popularity Score', fontsize = 20)\n",
    "ax.set_xlabel('Year', fontsize = 20)"
   ]
  }
 ],
 "metadata": {
  "kernelspec": {
   "display_name": "Python 3 (ipykernel)",
   "language": "python",
   "name": "python3"
  },
  "language_info": {
   "codemirror_mode": {
    "name": "ipython",
    "version": 3
   },
   "file_extension": ".py",
   "mimetype": "text/x-python",
   "name": "python",
   "nbconvert_exporter": "python",
   "pygments_lexer": "ipython3",
   "version": "3.9.17"
  }
 },
 "nbformat": 4,
 "nbformat_minor": 5
}
